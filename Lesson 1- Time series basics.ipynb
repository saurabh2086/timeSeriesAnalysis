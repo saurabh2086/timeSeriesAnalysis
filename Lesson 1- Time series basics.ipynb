{
 "cells": [
  {
   "cell_type": "markdown",
   "metadata": {},
   "source": [
    "# 1.1 Overview of Time Series Characteristics"
   ]
  },
  {
   "cell_type": "markdown",
   "metadata": {},
   "source": [
    "---\n",
    "*Definition*\n",
    "\n",
    "A **univariate time series** is a sequence of measurements of the same variable collected over time.  Most often, the measurements are made at regular time intervals.\n",
    "\n",
    "---\n",
    "\n",
    "### Basic Objectives of the Analysis\n",
    "1. Describe time series feature\n",
    "2. Explain How past affects future\n",
    "3. Explain How two time series are related\n",
    "4. Predict future\n",
    "\n",
    "### Types of models\n",
    "1. current values is described by past values or erros (ARIMA)\n",
    "2. Simple regression where time is used as Index \n",
    "\n",
    "Wnenever you encounter a time series look for folloiwng charecteristics\n",
    "### Important charecteristics to consider\n",
    "1. is there a **trend**?,\n",
    "2. is there a **seasonality**?,\n",
    "3. are there any **outliars**?,\n",
    "4. is there any **long term cycle**?,\n",
    "5. is there **constant variance** overtime,\n",
    "6. is there any **abrupt change** in variance/levels,"
   ]
  },
  {
   "cell_type": "markdown",
   "metadata": {},
   "source": [
    "#### Example 1"
   ]
  },
  {
   "cell_type": "code",
   "execution_count": 23,
   "metadata": {},
   "outputs": [],
   "source": [
    "import pandas as pd\n",
    "import matplotlib.pyplot as plt \n",
    "import matplotlib\n",
    "import warnings\n",
    "warnings.filterwarnings('ignore')\n",
    "matplotlib.style.use(\"seaborn\")\n",
    "%matplotlib inline"
   ]
  },
  {
   "cell_type": "code",
   "execution_count": 14,
   "metadata": {},
   "outputs": [],
   "source": [
    "quakes = pd.read_csv(\"./data/quakes.csv\", delimiter='\\t', header=None)\n",
    "quakes.columns = [\"year\", \"q\"]"
   ]
  },
  {
   "cell_type": "code",
   "execution_count": 15,
   "metadata": {},
   "outputs": [
    {
     "data": {
      "text/html": [
       "<div>\n",
       "<style scoped>\n",
       "    .dataframe tbody tr th:only-of-type {\n",
       "        vertical-align: middle;\n",
       "    }\n",
       "\n",
       "    .dataframe tbody tr th {\n",
       "        vertical-align: top;\n",
       "    }\n",
       "\n",
       "    .dataframe thead th {\n",
       "        text-align: right;\n",
       "    }\n",
       "</style>\n",
       "<table border=\"1\" class=\"dataframe\">\n",
       "  <thead>\n",
       "    <tr style=\"text-align: right;\">\n",
       "      <th></th>\n",
       "      <th>year</th>\n",
       "      <th>q</th>\n",
       "    </tr>\n",
       "  </thead>\n",
       "  <tbody>\n",
       "    <tr>\n",
       "      <th>0</th>\n",
       "      <td>1900</td>\n",
       "      <td>13</td>\n",
       "    </tr>\n",
       "    <tr>\n",
       "      <th>1</th>\n",
       "      <td>1901</td>\n",
       "      <td>14</td>\n",
       "    </tr>\n",
       "    <tr>\n",
       "      <th>2</th>\n",
       "      <td>1902</td>\n",
       "      <td>8</td>\n",
       "    </tr>\n",
       "    <tr>\n",
       "      <th>3</th>\n",
       "      <td>1903</td>\n",
       "      <td>10</td>\n",
       "    </tr>\n",
       "    <tr>\n",
       "      <th>4</th>\n",
       "      <td>1904</td>\n",
       "      <td>16</td>\n",
       "    </tr>\n",
       "  </tbody>\n",
       "</table>\n",
       "</div>"
      ],
      "text/plain": [
       "   year   q\n",
       "0  1900  13\n",
       "1  1901  14\n",
       "2  1902   8\n",
       "3  1903  10\n",
       "4  1904  16"
      ]
     },
     "execution_count": 15,
     "metadata": {},
     "output_type": "execute_result"
    }
   ],
   "source": [
    "quakes.head()"
   ]
  },
  {
   "cell_type": "code",
   "execution_count": 16,
   "metadata": {},
   "outputs": [
    {
     "data": {
      "image/png": "[encoded data removed]",
      "text/plain": [
       "<Figure size 432x288 with 1 Axes>"
      ]
     },
     "metadata": {
      "needs_background": "light"
     },
     "output_type": "display_data"
    }
   ],
   "source": [
    "quakes.q.plot(marker='.',markerfacecolor='r', markeredgecolor='r')\n",
    "plt.xlabel(\"quakes\")\n",
    "plt.ylabel(\"\")\n",
    "plt.show()"
   ]
  },
  {
   "cell_type": "markdown",
   "metadata": {},
   "source": [
    "#### Features of the plot\n",
    "1. No trend\n",
    "2. No seasonality since it is an annual data\n",
    "3. no obvious outliar \n",
    "4. difficult to say whether the variance remained constant thoughout"
   ]
  },
  {
   "cell_type": "code",
   "execution_count": 18,
   "metadata": {},
   "outputs": [
    {
     "data": {
      "text/html": [
       "<div>\n",
       "<style scoped>\n",
       "    .dataframe tbody tr th:only-of-type {\n",
       "        vertical-align: middle;\n",
       "    }\n",
       "\n",
       "    .dataframe tbody tr th {\n",
       "        vertical-align: top;\n",
       "    }\n",
       "\n",
       "    .dataframe thead th {\n",
       "        text-align: right;\n",
       "    }\n",
       "</style>\n",
       "<table border=\"1\" class=\"dataframe\">\n",
       "  <thead>\n",
       "    <tr style=\"text-align: right;\">\n",
       "      <th></th>\n",
       "      <th>year</th>\n",
       "      <th>q</th>\n",
       "      <th>q-1</th>\n",
       "    </tr>\n",
       "  </thead>\n",
       "  <tbody>\n",
       "    <tr>\n",
       "      <th>1</th>\n",
       "      <td>1901</td>\n",
       "      <td>14</td>\n",
       "      <td>13.0</td>\n",
       "    </tr>\n",
       "    <tr>\n",
       "      <th>2</th>\n",
       "      <td>1902</td>\n",
       "      <td>8</td>\n",
       "      <td>14.0</td>\n",
       "    </tr>\n",
       "    <tr>\n",
       "      <th>3</th>\n",
       "      <td>1903</td>\n",
       "      <td>10</td>\n",
       "      <td>8.0</td>\n",
       "    </tr>\n",
       "    <tr>\n",
       "      <th>4</th>\n",
       "      <td>1904</td>\n",
       "      <td>16</td>\n",
       "      <td>10.0</td>\n",
       "    </tr>\n",
       "    <tr>\n",
       "      <th>5</th>\n",
       "      <td>1905</td>\n",
       "      <td>26</td>\n",
       "      <td>16.0</td>\n",
       "    </tr>\n",
       "  </tbody>\n",
       "</table>\n",
       "</div>"
      ],
      "text/plain": [
       "   year   q   q-1\n",
       "1  1901  14  13.0\n",
       "2  1902   8  14.0\n",
       "3  1903  10   8.0\n",
       "4  1904  16  10.0\n",
       "5  1905  26  16.0"
      ]
     },
     "execution_count": 18,
     "metadata": {},
     "output_type": "execute_result"
    }
   ],
   "source": [
    "quakes[\"q-1\"] = quakes.q.shift(1)\n",
    "df1 = quakes.dropna()\n",
    "df1.head()"
   ]
  },
  {
   "cell_type": "code",
   "execution_count": 19,
   "metadata": {},
   "outputs": [],
   "source": [
    "import numpy as np\n",
    "import statsmodels.api as sm"
   ]
  },
  {
   "cell_type": "markdown",
   "metadata": {},
   "source": [
    "lets do regression on q and q-1"
   ]
  },
  {
   "cell_type": "code",
   "execution_count": 20,
   "metadata": {},
   "outputs": [
    {
     "name": "stdout",
     "output_type": "stream",
     "text": [
      "                            OLS Regression Results                            \n",
      "==============================================================================\n",
      "Dep. Variable:                      q   R-squared:                       0.295\n",
      "Model:                            OLS   Adj. R-squared:                  0.288\n",
      "Method:                 Least Squares   F-statistic:                     40.68\n",
      "Date:                Fri, 07 Dec 2018   Prob (F-statistic):           6.11e-09\n",
      "Time:                        20:42:14   Log-Likelihood:                -316.49\n",
      "No. Observations:                  99   AIC:                             637.0\n",
      "Df Residuals:                      97   BIC:                             642.2\n",
      "Df Model:                           1                                         \n",
      "Covariance Type:            nonrobust                                         \n",
      "==============================================================================\n",
      "                 coef    std err          t      P>|t|      [0.025      0.975]\n",
      "------------------------------------------------------------------------------\n",
      "const          9.0369      1.806      5.004      0.000       5.453      12.621\n",
      "q-1            0.5453      0.086      6.378      0.000       0.376       0.715\n",
      "==============================================================================\n",
      "Omnibus:                        6.139   Durbin-Watson:                   2.208\n",
      "Prob(Omnibus):                  0.046   Jarque-Bera (JB):                5.868\n",
      "Skew:                           0.439   Prob(JB):                       0.0532\n",
      "Kurtosis:                       3.808   Cond. No.                         63.6\n",
      "==============================================================================\n",
      "\n",
      "Warnings:\n",
      "[1] Standard Errors assume that the covariance matrix of the errors is correctly specified.\n"
     ]
    }
   ],
   "source": [
    "X = df1['q-1']\n",
    "y = df1['q']\n",
    "X = sm.add_constant(X)\n",
    "model = sm.OLS(y,X)\n",
    "results = model.fit()\n",
    "print(results.summary())"
   ]
  },
  {
   "cell_type": "markdown",
   "metadata": {},
   "source": [
    "getting the prediction of the model"
   ]
  },
  {
   "cell_type": "code",
   "execution_count": 24,
   "metadata": {},
   "outputs": [],
   "source": [
    "df1[\"pred\"] = model.predict(results.params, X)"
   ]
  },
  {
   "cell_type": "code",
   "execution_count": 29,
   "metadata": {},
   "outputs": [
    {
     "data": {
      "image/png": "[encoded data removed]",
      "text/plain": [
       "<Figure size 432x288 with 1 Axes>"
      ]
     },
     "metadata": {
      "needs_background": "light"
     },
     "output_type": "display_data"
    }
   ],
   "source": [
    "fig, ax = plt.subplots()\n",
    "df1.plot.scatter(\"q-1\", \"q\", ax=ax)\n",
    "df1.plot(\"q-1\", \"pred\", ax=ax)\n",
    "plt.show()"
   ]
  },
  {
   "cell_type": "markdown",
   "metadata": {},
   "source": [
    "the r square value is not that great 29% , so not going to give you great predictions"
   ]
  },
  {
   "cell_type": "markdown",
   "metadata": {},
   "source": [
    "#### Residual Analysis\n",
    "plot of residual versus fit is a very useful diagnostic tool."
   ]
  },
  {
   "cell_type": "code",
   "execution_count": 31,
   "metadata": {},
   "outputs": [],
   "source": [
    "df1['resi'] = df1.loc[:,'q'] - df1.loc[:,'pred']"
   ]
  },
  {
   "cell_type": "code",
   "execution_count": 33,
   "metadata": {},
   "outputs": [
    {
     "data": {
      "text/plain": [
       "<matplotlib.collections.LineCollection at 0x7f5b0c0382e8>"
      ]
     },
     "execution_count": 33,
     "metadata": {},
     "output_type": "execute_result"
    },
    {
     "data": {
      "image/png": "[encoded data removed]",
      "text/plain": [
       "<Figure size 432x288 with 1 Axes>"
      ]
     },
     "metadata": {
      "needs_background": "light"
     },
     "output_type": "display_data"
    }
   ],
   "source": [
    "df1.plot.scatter(\"pred\", \"resi\")\n",
    "plt.hlines(0, 11,35)"
   ]
  },
  {
   "cell_type": "markdown",
   "metadata": {},
   "source": [
    "does not show any serious problem, there might be an outliar at 28"
   ]
  },
  {
   "cell_type": "markdown",
   "metadata": {},
   "source": [
    "#### Example 2 \n",
    "quaterly beer production in australia"
   ]
  },
  {
   "cell_type": "code",
   "execution_count": 34,
   "metadata": {},
   "outputs": [
    {
     "data": {
      "text/html": [
       "<div>\n",
       "<style scoped>\n",
       "    .dataframe tbody tr th:only-of-type {\n",
       "        vertical-align: middle;\n",
       "    }\n",
       "\n",
       "    .dataframe tbody tr th {\n",
       "        vertical-align: top;\n",
       "    }\n",
       "\n",
       "    .dataframe thead th {\n",
       "        text-align: right;\n",
       "    }\n",
       "</style>\n",
       "<table border=\"1\" class=\"dataframe\">\n",
       "  <thead>\n",
       "    <tr style=\"text-align: right;\">\n",
       "      <th></th>\n",
       "      <th>Quarter</th>\n",
       "      <th>beer</th>\n",
       "    </tr>\n",
       "  </thead>\n",
       "  <tbody>\n",
       "    <tr>\n",
       "      <th>0</th>\n",
       "      <td>1956Q1</td>\n",
       "      <td>284.4</td>\n",
       "    </tr>\n",
       "    <tr>\n",
       "      <th>1</th>\n",
       "      <td>1956Q2</td>\n",
       "      <td>212.8</td>\n",
       "    </tr>\n",
       "    <tr>\n",
       "      <th>2</th>\n",
       "      <td>1956Q3</td>\n",
       "      <td>226.9</td>\n",
       "    </tr>\n",
       "    <tr>\n",
       "      <th>3</th>\n",
       "      <td>1956Q4</td>\n",
       "      <td>308.4</td>\n",
       "    </tr>\n",
       "    <tr>\n",
       "      <th>4</th>\n",
       "      <td>1957Q1</td>\n",
       "      <td>262.0</td>\n",
       "    </tr>\n",
       "  </tbody>\n",
       "</table>\n",
       "</div>"
      ],
      "text/plain": [
       "  Quarter   beer\n",
       "0  1956Q1  284.4\n",
       "1  1956Q2  212.8\n",
       "2  1956Q3  226.9\n",
       "3  1956Q4  308.4\n",
       "4  1957Q1  262.0"
      ]
     },
     "execution_count": 34,
     "metadata": {},
     "output_type": "execute_result"
    }
   ],
   "source": [
    "df2 = pd.read_csv(\"./data/quarterly-beer-production-in-aus.csv\", header=None).iloc[:72,:]\n",
    "df2.columns = [\"Quarter\", \"beer\"]\n",
    "df2.head()"
   ]
  },
  {
   "cell_type": "code",
   "execution_count": 35,
   "metadata": {},
   "outputs": [
    {
     "data": {
      "image/png": "[encoded data removed]",
      "text/plain": [
       "<Figure size 432x288 with 1 Axes>"
      ]
     },
     "metadata": {
      "needs_background": "light"
     },
     "output_type": "display_data"
    }
   ],
   "source": [
    "df2.beer.plot(marker='.', markerfacecolor='r', markeredgecolor='r')\n",
    "plt.show()"
   ]
  },
  {
   "cell_type": "markdown",
   "metadata": {},
   "source": [
    "#### Charecteristics of the data\n",
    "1. There is an upward trend\n",
    "2. there is no obvious outliar\n",
    "3. there is a sesonality\n",
    "4. variance might be increasing with time"
   ]
  },
  {
   "cell_type": "markdown",
   "metadata": {},
   "source": [
    "#### Classical regression methods for trend and seasonal effects\n",
    "1. use time index as predictor variable\n",
    "2. quadratic trend so we can use $t$ and $t^2$\n",
    "3. there is a seasonal effect so we might use flags for quarters\n",
    "For linear trend:\n",
    "\n",
    "$x_{t} = \\beta_{1}t + \\alpha_{1}S_{1}+\\alpha_{2}S_{2}+\\alpha_{3}S_{3}+\\alpha_{4}S_{4}+\\epsilon_{t}$\n",
    "\n",
    "For quadratic trend\n",
    "\n",
    "$x_{t} = \\beta_{1}t +\\beta_{2}t^2+\\alpha_{1}S_{1}+\\alpha_{2}S_{2}+\\alpha_{3}S_{3}+\\alpha_{4}S_{4}+\\epsilon_{t}$"
   ]
  },
  {
   "cell_type": "markdown",
   "metadata": {},
   "source": [
    "We have deleted the intercept because we have taken all the 4 quarters"
   ]
  },
  {
   "cell_type": "code",
   "execution_count": 36,
   "metadata": {},
   "outputs": [],
   "source": [
    "df2['qtr'] = df2['Quarter'].apply(lambda x: x[-2:])\n",
    "df2['time'] = df2.index+1\n",
    "df2['time_sq'] = df2.time ** 2\n",
    "df2 = pd.get_dummies(df2, columns=[\"qtr\"])"
   ]
  },
  {
   "cell_type": "code",
   "execution_count": 37,
   "metadata": {},
   "outputs": [
    {
     "data": {
      "text/html": [
       "<div>\n",
       "<style scoped>\n",
       "    .dataframe tbody tr th:only-of-type {\n",
       "        vertical-align: middle;\n",
       "    }\n",
       "\n",
       "    .dataframe tbody tr th {\n",
       "        vertical-align: top;\n",
       "    }\n",
       "\n",
       "    .dataframe thead th {\n",
       "        text-align: right;\n",
       "    }\n",
       "</style>\n",
       "<table border=\"1\" class=\"dataframe\">\n",
       "  <thead>\n",
       "    <tr style=\"text-align: right;\">\n",
       "      <th></th>\n",
       "      <th>Quarter</th>\n",
       "      <th>beer</th>\n",
       "      <th>time</th>\n",
       "      <th>time_sq</th>\n",
       "      <th>qtr_Q1</th>\n",
       "      <th>qtr_Q2</th>\n",
       "      <th>qtr_Q3</th>\n",
       "      <th>qtr_Q4</th>\n",
       "    </tr>\n",
       "  </thead>\n",
       "  <tbody>\n",
       "    <tr>\n",
       "      <th>0</th>\n",
       "      <td>1956Q1</td>\n",
       "      <td>284.4</td>\n",
       "      <td>1</td>\n",
       "      <td>1</td>\n",
       "      <td>1</td>\n",
       "      <td>0</td>\n",
       "      <td>0</td>\n",
       "      <td>0</td>\n",
       "    </tr>\n",
       "    <tr>\n",
       "      <th>1</th>\n",
       "      <td>1956Q2</td>\n",
       "      <td>212.8</td>\n",
       "      <td>2</td>\n",
       "      <td>4</td>\n",
       "      <td>0</td>\n",
       "      <td>1</td>\n",
       "      <td>0</td>\n",
       "      <td>0</td>\n",
       "    </tr>\n",
       "    <tr>\n",
       "      <th>2</th>\n",
       "      <td>1956Q3</td>\n",
       "      <td>226.9</td>\n",
       "      <td>3</td>\n",
       "      <td>9</td>\n",
       "      <td>0</td>\n",
       "      <td>0</td>\n",
       "      <td>1</td>\n",
       "      <td>0</td>\n",
       "    </tr>\n",
       "    <tr>\n",
       "      <th>3</th>\n",
       "      <td>1956Q4</td>\n",
       "      <td>308.4</td>\n",
       "      <td>4</td>\n",
       "      <td>16</td>\n",
       "      <td>0</td>\n",
       "      <td>0</td>\n",
       "      <td>0</td>\n",
       "      <td>1</td>\n",
       "    </tr>\n",
       "    <tr>\n",
       "      <th>4</th>\n",
       "      <td>1957Q1</td>\n",
       "      <td>262.0</td>\n",
       "      <td>5</td>\n",
       "      <td>25</td>\n",
       "      <td>1</td>\n",
       "      <td>0</td>\n",
       "      <td>0</td>\n",
       "      <td>0</td>\n",
       "    </tr>\n",
       "  </tbody>\n",
       "</table>\n",
       "</div>"
      ],
      "text/plain": [
       "  Quarter   beer  time  time_sq  qtr_Q1  qtr_Q2  qtr_Q3  qtr_Q4\n",
       "0  1956Q1  284.4     1        1       1       0       0       0\n",
       "1  1956Q2  212.8     2        4       0       1       0       0\n",
       "2  1956Q3  226.9     3        9       0       0       1       0\n",
       "3  1956Q4  308.4     4       16       0       0       0       1\n",
       "4  1957Q1  262.0     5       25       1       0       0       0"
      ]
     },
     "execution_count": 37,
     "metadata": {},
     "output_type": "execute_result"
    }
   ],
   "source": [
    "df2.head()"
   ]
  },
  {
   "cell_type": "code",
   "execution_count": 39,
   "metadata": {},
   "outputs": [
    {
     "name": "stdout",
     "output_type": "stream",
     "text": [
      "                            OLS Regression Results                            \n",
      "==============================================================================\n",
      "Dep. Variable:                   beer   R-squared:                       0.980\n",
      "Model:                            OLS   Adj. R-squared:                  0.978\n",
      "Method:                 Least Squares   F-statistic:                     635.2\n",
      "Date:                Fri, 07 Dec 2018   Prob (F-statistic):           2.26e-54\n",
      "Time:                        22:09:01   Log-Likelihood:                -272.42\n",
      "No. Observations:                  72   AIC:                             556.8\n",
      "Df Residuals:                      66   BIC:                             570.5\n",
      "Df Model:                           5                                         \n",
      "Covariance Type:            nonrobust                                         \n",
      "==============================================================================\n",
      "                 coef    std err          t      P>|t|      [0.025      0.975]\n",
      "------------------------------------------------------------------------------\n",
      "time           0.4070      0.255      1.593      0.116      -0.103       0.917\n",
      "time_sq        0.0343      0.003     10.113      0.000       0.028       0.041\n",
      "qtr_Q1       263.1664      4.587     57.369      0.000     254.008     272.325\n",
      "qtr_Q2       213.3633      4.622     46.158      0.000     204.134     222.592\n",
      "qtr_Q3       229.5693      4.654     49.329      0.000     220.278     238.861\n",
      "qtr_Q4       314.2068      4.681     67.118      0.000     304.860     323.554\n",
      "==============================================================================\n",
      "Omnibus:                       18.242   Durbin-Watson:                   1.914\n",
      "Prob(Omnibus):                  0.000   Jarque-Bera (JB):               37.174\n",
      "Skew:                           0.820   Prob(JB):                     8.47e-09\n",
      "Kurtosis:                       6.115   Cond. No.                     1.46e+04\n",
      "==============================================================================\n",
      "\n",
      "Warnings:\n",
      "[1] Standard Errors assume that the covariance matrix of the errors is correctly specified.\n",
      "[2] The condition number is large, 1.46e+04. This might indicate that there are\n",
      "strong multicollinearity or other numerical problems.\n"
     ]
    }
   ],
   "source": [
    "X = df2.iloc[:,2:]\n",
    "y = df2.beer\n",
    "model = sm.OLS(y,X)\n",
    "results = model.fit()\n",
    "print(results.summary())"
   ]
  },
  {
   "cell_type": "code",
   "execution_count": 40,
   "metadata": {},
   "outputs": [],
   "source": [
    "df2[\"pred\"] = model.predict(results.params, X)\n",
    "df2[\"res\"] = df2[\"beer\"].sub(df2[\"pred\"])"
   ]
  },
  {
   "cell_type": "code",
   "execution_count": 43,
   "metadata": {},
   "outputs": [
    {
     "data": {
      "image/png": "[encoded data removed]",
      "text/plain": [
       "<Figure size 432x288 with 1 Axes>"
      ]
     },
     "metadata": {
      "needs_background": "light"
     },
     "output_type": "display_data"
    }
   ],
   "source": [
    "df2.plot.scatter(\"pred\", \"res\")\n",
    "plt.hlines(0,200,600)\n",
    "plt.show()"
   ]
  },
  {
   "cell_type": "markdown",
   "metadata": {},
   "source": [
    "There is normally everything looks ok , just the at the end there are some string of positive errors and there is a outliar in the end"
   ]
  },
  {
   "cell_type": "markdown",
   "metadata": {},
   "source": [
    "For residual the notmal result is that they should be unrelated to each other. That mean they cant be predicted by previous values."
   ]
  },
  {
   "cell_type": "markdown",
   "metadata": {},
   "source": [
    "#### Sample Autocorrelation Function (ACF)\n",
    "ACF gives correlation between $x_{t}$ and series of lags $1, 2, 3$ and so on\n",
    "\n",
    "it can be use to find the ACF of the residulas as well. \n",
    "\n",
    "Lets see the acf grapf of the residuals of the example 1 and 2"
   ]
  },
  {
   "cell_type": "code",
   "execution_count": 48,
   "metadata": {},
   "outputs": [
    {
     "data": {
      "image/png": "[encoded data removed]",
      "text/plain": [
       "<Figure size 432x288 with 1 Axes>"
      ]
     },
     "metadata": {
      "needs_background": "light"
     },
     "output_type": "display_data"
    }
   ],
   "source": [
    "from statsmodels.graphics.tsaplots import plot_acf\n",
    "plot_acf(df1.resi)\n",
    "plt.title(\"example 1, ACF of residuals\")\n",
    "plt.xlabel(\"Lags\")\n",
    "plt.ylabel(\"Autocorrelation\")\n",
    "plt.show()"
   ]
  },
  {
   "cell_type": "code",
   "execution_count": 50,
   "metadata": {},
   "outputs": [
    {
     "data": {
      "image/png": "[encoded data removed]",
      "text/plain": [
       "<Figure size 432x288 with 1 Axes>"
      ]
     },
     "metadata": {
      "needs_background": "light"
     },
     "output_type": "display_data"
    }
   ],
   "source": [
    "from statsmodels.graphics.tsaplots import plot_acf\n",
    "plot_acf(df2.res)\n",
    "plt.title(\"example 2, ACF of residuals\")\n",
    "plt.xlabel(\"Lags\")\n",
    "plt.ylabel(\"Autocorrelation\")\n",
    "plt.show()"
   ]
  },
  {
   "cell_type": "markdown",
   "metadata": {},
   "source": [
    "there is no significant aotocorrelation present in the residuals of the both datasets"
   ]
  },
  {
   "cell_type": "code",
   "execution_count": null,
   "metadata": {},
   "outputs": [],
   "source": []
  }
 ],
 "metadata": {
  "kernelspec": {
   "display_name": "Python 3",
   "language": "python",
   "name": "python3"
  },
  "language_info": {
   "codemirror_mode": {
    "name": "ipython",
    "version": 3
   },
   "file_extension": ".py",
   "mimetype": "text/x-python",
   "name": "python",
   "nbconvert_exporter": "python",
   "pygments_lexer": "ipython3",
   "version": "3.6.6"
  }
 },
 "nbformat": 4,
 "nbformat_minor": 2
}
