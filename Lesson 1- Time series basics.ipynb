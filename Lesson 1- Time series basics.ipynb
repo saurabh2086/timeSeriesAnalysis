{
 "cells": [
  {
   "cell_type": "markdown",
   "metadata": {},
   "source": [
    "# 1.1 Overview of Time Series Characteristics"
   ]
  },
  {
   "cell_type": "markdown",
   "metadata": {},
   "source": [
    "In this lesson, we’ll describe some important features that we must consider when describing and modeling a time series.  This is meant to be an introductory overview, illustrated by example, and not a complete look at how we model a univariate time series.  Here, we’ll only consider univariate time series.  We’ll examine relationships between two or more time series later on."
   ]
  },
  {
   "cell_type": "markdown",
   "metadata": {},
   "source": [
    "*Definition:\n",
    "\n",
    "A **univariate time series** is a sequence of measurements of the same variable collected over time.  Most often, the measurements are made at regular time intervals.\n",
    "\n",
    "---\n",
    "One difference from standard linear regression in the data might not be independent or came from identical/same distribution.\n",
    "One very important this is that the ordering matters"
   ]
  },
  {
   "cell_type": "markdown",
   "metadata": {},
   "source": [
    "#### Basic Objectives of the Analysis:\n",
    "* Describe important features of the time series\n",
    "* Explain How past affect future\n",
    "* How two timeseries interact\n",
    "* Forcast future values of the time series"
   ]
  },
  {
   "cell_type": "markdown",
   "metadata": {},
   "source": [
    "#### Types of Models\n",
    "1. models that relate present /future values with the past values or errors (**ARIMA**)\n",
    "2. models that use time indices as x values to predict using conventional regression models "
   ]
  },
  {
   "cell_type": "markdown",
   "metadata": {},
   "source": [
    "#### Important Characteristics to Consider First\n",
    "What are the first things to look for in time series when you first look at it\n",
    "1. is there a **trend**?\n",
    "2. is there a **seasonality**?\n",
    "3. are there any **outliars**? \n",
    "4. is there any **long term cycle**?\n",
    "5. is there **constant variance** overtime \n",
    "6. is there any **abrupt change** in variance/levels\n",
    "\n"
   ]
  },
  {
   "cell_type": "markdown",
   "metadata": {},
   "source": [
    "## Example 1"
   ]
  },
  {
   "cell_type": "code",
   "execution_count": 1,
   "metadata": {},
   "outputs": [],
   "source": [
    "import pandas as pd\n",
    "import matplotlib.pyplot as plt \n",
    "import matplotlib\n",
    "matplotlib.style.use(\"seaborn\")"
   ]
  },
  {
   "cell_type": "code",
   "execution_count": 2,
   "metadata": {},
   "outputs": [
    {
     "data": {
      "text/html": [
       "<div>\n",
       "<style>\n",
       "    .dataframe thead tr:only-child th {\n",
       "        text-align: right;\n",
       "    }\n",
       "\n",
       "    .dataframe thead th {\n",
       "        text-align: left;\n",
       "    }\n",
       "\n",
       "    .dataframe tbody tr th {\n",
       "        vertical-align: top;\n",
       "    }\n",
       "</style>\n",
       "<table border=\"1\" class=\"dataframe\">\n",
       "  <thead>\n",
       "    <tr style=\"text-align: right;\">\n",
       "      <th></th>\n",
       "      <th>year</th>\n",
       "      <th>q</th>\n",
       "    </tr>\n",
       "  </thead>\n",
       "  <tbody>\n",
       "    <tr>\n",
       "      <th>0</th>\n",
       "      <td>1900</td>\n",
       "      <td>13</td>\n",
       "    </tr>\n",
       "    <tr>\n",
       "      <th>1</th>\n",
       "      <td>1901</td>\n",
       "      <td>14</td>\n",
       "    </tr>\n",
       "    <tr>\n",
       "      <th>2</th>\n",
       "      <td>1902</td>\n",
       "      <td>8</td>\n",
       "    </tr>\n",
       "    <tr>\n",
       "      <th>3</th>\n",
       "      <td>1903</td>\n",
       "      <td>10</td>\n",
       "    </tr>\n",
       "    <tr>\n",
       "      <th>4</th>\n",
       "      <td>1904</td>\n",
       "      <td>16</td>\n",
       "    </tr>\n",
       "  </tbody>\n",
       "</table>\n",
       "</div>"
      ],
      "text/plain": [
       "   year   q\n",
       "0  1900  13\n",
       "1  1901  14\n",
       "2  1902   8\n",
       "3  1903  10\n",
       "4  1904  16"
      ]
     },
     "execution_count": 2,
     "metadata": {},
     "output_type": "execute_result"
    }
   ],
   "source": [
    "quakes = pd.read_csv(\"./data/quakes.csv\", header=None, delimiter='\\t')\n",
    "quakes.columns = ['year', 'q']\n",
    "quakes.head()"
   ]
  },
  {
   "cell_type": "code",
   "execution_count": 3,
   "metadata": {},
   "outputs": [
    {
     "data": {
      "image/png": "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
      "text/plain": [
       "<matplotlib.figure.Figure at 0x7f3791077978>"
      ]
     },
     "metadata": {
      "needs_background": "light"
     },
     "output_type": "display_data"
    }
   ],
   "source": [
    "quakes.q.plot(marker='.',markerfacecolor='r', markeredgecolor='r')\n",
    "plt.hlines(quakes.q.mean(), 0,100)\n",
    "plt.show()"
   ]
  },
  {
   "cell_type": "markdown",
   "metadata": {},
   "source": [
    "#### Features of the plot \n",
    "1. No trend\n",
    "2. No seasonality since it is annual data\n",
    "3. no obvious outliar\n",
    "4. might have long term cycles\n",
    "5. difficult to tell whether variance is constant through timeor not "
   ]
  },
  {
   "cell_type": "code",
   "execution_count": 4,
   "metadata": {},
   "outputs": [
    {
     "data": {
      "text/html": [
       "<div>\n",
       "<style>\n",
       "    .dataframe thead tr:only-child th {\n",
       "        text-align: right;\n",
       "    }\n",
       "\n",
       "    .dataframe thead th {\n",
       "        text-align: left;\n",
       "    }\n",
       "\n",
       "    .dataframe tbody tr th {\n",
       "        vertical-align: top;\n",
       "    }\n",
       "</style>\n",
       "<table border=\"1\" class=\"dataframe\">\n",
       "  <thead>\n",
       "    <tr style=\"text-align: right;\">\n",
       "      <th></th>\n",
       "      <th>year</th>\n",
       "      <th>q</th>\n",
       "      <th>q-1</th>\n",
       "    </tr>\n",
       "  </thead>\n",
       "  <tbody>\n",
       "    <tr>\n",
       "      <th>0</th>\n",
       "      <td>1900</td>\n",
       "      <td>13</td>\n",
       "      <td>NaN</td>\n",
       "    </tr>\n",
       "    <tr>\n",
       "      <th>1</th>\n",
       "      <td>1901</td>\n",
       "      <td>14</td>\n",
       "      <td>13.0</td>\n",
       "    </tr>\n",
       "    <tr>\n",
       "      <th>2</th>\n",
       "      <td>1902</td>\n",
       "      <td>8</td>\n",
       "      <td>14.0</td>\n",
       "    </tr>\n",
       "    <tr>\n",
       "      <th>3</th>\n",
       "      <td>1903</td>\n",
       "      <td>10</td>\n",
       "      <td>8.0</td>\n",
       "    </tr>\n",
       "    <tr>\n",
       "      <th>4</th>\n",
       "      <td>1904</td>\n",
       "      <td>16</td>\n",
       "      <td>10.0</td>\n",
       "    </tr>\n",
       "  </tbody>\n",
       "</table>\n",
       "</div>"
      ],
      "text/plain": [
       "   year   q   q-1\n",
       "0  1900  13   NaN\n",
       "1  1901  14  13.0\n",
       "2  1902   8  14.0\n",
       "3  1903  10   8.0\n",
       "4  1904  16  10.0"
      ]
     },
     "execution_count": 4,
     "metadata": {},
     "output_type": "execute_result"
    }
   ],
   "source": [
    "quakes[\"q-1\"] = quakes.q.shift(1)\n",
    "quakes.head()"
   ]
  },
  {
   "cell_type": "code",
   "execution_count": 5,
   "metadata": {},
   "outputs": [],
   "source": [
    "import numpy as np\n",
    "import statsmodels.api as sm"
   ]
  },
  {
   "cell_type": "markdown",
   "metadata": {},
   "source": [
    "lets do regression on q and q-1"
   ]
  },
  {
   "cell_type": "code",
   "execution_count": 7,
   "metadata": {},
   "outputs": [],
   "source": [
    "df = quakes.dropna()"
   ]
  },
  {
   "cell_type": "code",
   "execution_count": 8,
   "metadata": {},
   "outputs": [],
   "source": [
    "X = df['q-1']\n",
    "y = df['q']\n",
    "X = sm.add_constant(X)\n",
    "model = sm.OLS(y,X)\n",
    "results = model.fit()\n"
   ]
  },
  {
   "cell_type": "code",
   "execution_count": 17,
   "metadata": {},
   "outputs": [
    {
     "name": "stdout",
     "output_type": "stream",
     "text": [
      "                            OLS Regression Results                            \n",
      "==============================================================================\n",
      "Dep. Variable:                      q   R-squared:                       0.295\n",
      "Model:                            OLS   Adj. R-squared:                  0.288\n",
      "Method:                 Least Squares   F-statistic:                     40.68\n",
      "Date:                Fri, 07 Dec 2018   Prob (F-statistic):           6.11e-09\n",
      "Time:                        06:45:04   Log-Likelihood:                -316.49\n",
      "No. Observations:                  99   AIC:                             637.0\n",
      "Df Residuals:                      97   BIC:                             642.2\n",
      "Df Model:                           1                                         \n",
      "Covariance Type:            nonrobust                                         \n",
      "==============================================================================\n",
      "                 coef    std err          t      P>|t|      [0.025      0.975]\n",
      "------------------------------------------------------------------------------\n",
      "const          9.0369      1.806      5.004      0.000       5.453      12.621\n",
      "q-1            0.5453      0.086      6.378      0.000       0.376       0.715\n",
      "==============================================================================\n",
      "Omnibus:                        6.139   Durbin-Watson:                   2.208\n",
      "Prob(Omnibus):                  0.046   Jarque-Bera (JB):                5.868\n",
      "Skew:                           0.439   Prob(JB):                       0.0532\n",
      "Kurtosis:                       3.808   Cond. No.                         63.6\n",
      "==============================================================================\n",
      "\n",
      "Warnings:\n",
      "[1] Standard Errors assume that the covariance matrix of the errors is correctly specified.\n"
     ]
    }
   ],
   "source": [
    "print(results.summary())"
   ]
  },
  {
   "cell_type": "code",
   "execution_count": 19,
   "metadata": {},
   "outputs": [
    {
     "data": {
      "image/png": "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
      "text/plain": [
       "<matplotlib.figure.Figure at 0x7f37818ef208>"
      ]
     },
     "metadata": {
      "needs_background": "light"
     },
     "output_type": "display_data"
    }
   ],
   "source": [
    "quakes.plot.scatter(\"q\", \"q-1\")\n",
    "plt.plot(df['q-1'],model.predict(results.params, X))\n",
    "plt.xlabel(\"lag1\")\n",
    "plt.xlabel(\"quakes\")\n",
    "plt.show()"
   ]
  },
  {
   "cell_type": "markdown",
   "metadata": {},
   "source": [
    "the r square value is not that great 29% , so not going to give you great predictions"
   ]
  },
  {
   "cell_type": "markdown",
   "metadata": {},
   "source": [
    "#### Residual Analysis\n",
    "plot of residual versus fit is a very useful diagnostic tool. "
   ]
  },
  {
   "cell_type": "code",
   "execution_count": 36,
   "metadata": {},
   "outputs": [],
   "source": [
    "import warnings\n",
    "warnings.filterwarnings('ignore')"
   ]
  },
  {
   "cell_type": "code",
   "execution_count": 38,
   "metadata": {},
   "outputs": [
    {
     "data": {
      "image/png": "iVBORw0KGgoAAAANSUhEUgAAAYcAAAEGCAYAAACO8lkDAAAABHNCSVQICAgIfAhkiAAAAAlwSFlzAAALEgAACxIB0t1+/AAAGnhJREFUeJzt3X+QHGd95/H3/pDWq9VircNYIjaUIbG+wrjiTRw5EFLEJORkchRgOJxgRYZAucAxlaNCVA4QbB8cdQFhqPy4cgxBMRYYh8IYU8BFDj/unEodd7KNICbWVwWJcpHLkjZ4hXe1Ylc/9v6YWTG7PTM7vdvdz9PTn1eVaqdneme+32ltf59+nu6n++bn5xEREWnWHzoAERGJj4qDiIgkqDiIiEiCioOIiCSoOIiISMJg6ACyMDExVapTrsbG1jE5ORM6jMwon/j1Wk7KJxu12mhfu9d05BDA4OBA6BAypXzi12s5KZ/8qTiIiEiCioOIiCSoOIiISIKKg4iIJKg4iIhIgoqDiIgk9MR1DiJVMD0zx56HDjJx/CS1DcPs2LaZ9cNrQ4clPUrFQaQk9jx0kH0HjgFw6MgUADe99vKQIUkPU7eSSElMHD/ZcVkkSzpykCipCyWptmH43BHDwrJIXlQcJErqQknasW0zwKKCKZIXFQeJkrpQktYPr618gZTiaMxBorS0y0RdKCLF0pGDREldKCJhqThIlNSFIhKWupVERCRBxUFERBJUHEREJCHomIOZ7QZeBRxz98sbz90O3AhMNFZ7j7t/NUyEIiLVFHpA+m7gL4B7ljz/MXf/SPHhiIgIBO5WcveHgadDxiAiIkmhjxzaeYeZ3QA8ArzL3Sc7rTw2to7BwYFiIstIrTYaOoRMKZ/49VpOyidfMRaHO4EPAPONn3cAb+n0C5OTMwWElZ1abZSJianlVywJ5RO/XstJ+WT3ue1EVxzc/ejCYzP7BPDlgOGIiFRSdKeymtlzmhavBR4PFYuISFWFPpX1s8DVwLPN7DBwG3C1mY1T71Y6BLwtWIAiIhUVtDi4+xtbPP3JwgMREZFFoutWEhGR8FQcREQkQcVBREQSojuVVSQr0zNz7Hno4KIbBq0fXhs6LJFSUHGQnrXnoYPsO3AMgENH6hcY6QZCIt1Rt5L0rInjJzsui0h7Kg7Ss2obhjsui0h76laSnrVj22aARWMOItIdFQcplTSDzOuH12qMQWSFVBykVDTILFIMjTlIqWiQWaQYOnKQUqltGD53xLCwXGW6lkPyouIgpaJB5sXUzSZ5UXGQUqnyIHOrowR1s0leVBxESqLVUYK62SQvKg4iJdHqKOEPfuuKc4/VzSZZUnEQKYlWRwlV7maTfKk4iJSEBuOlSCoOIiWhowQpUtDiYGa7gVcBx9z98sZzFwB/A1wCHAKuc/fJUDGKiFRR6Cuk7wauWfLcHwFfd/dLga83lkVEpEBBjxzc/WEzu2TJ068Brm48/hTwP4FbiotK8qKreUXKI8Yxh43u/lTj8RFg43K/MDa2jsHBgXyjylitNho6hEx1k8/ue/YtOk9/aGiQW27YmndoK9Jr2wd6Lyflk68Yi8M57j5vZvPLrTc5OVNEOJmp1UaZmJhafsWS6Dafw0enEssxfg+9tn1gZTnFfKTXa9soVD6dClLoMYdWjprZcwAaP48FjkcyojuzlcvCFdmHjkyx78Ax9uw9GDokKVCMRw5fAt4E/Enj54Nhw5Gs6Dz9ctG8TdUW+lTWz1IffH62mR0GbqNeFD5nZm8F/hW4LlyEkiWdp18umrep2kKfrfTGNi/9eqGBiEQklr5+HelVW4zdSiKVFss9GnSkV20qDtKVWFqzVaC+fomBioN0JZbWbBWKlPr6JQYqDtKVWFqzsRSpPKmvX2Kg4iBdiaU1G0uRypP6+iUGKg7SlaJbs+26j2IpUiK9TsVBulJ0a7Zd95G6XESKoeIgUWrXfaQuF5FixDi3kojmYRIJTEcOEiV1H4mEpeIgUVL3kUhY6lYSEZEEFQcREUlQt5IEV4UpMUTKRsVBgstrSgwVHZGVU3GQ4PKaEqMK8zCJ5EVjDhJcXtc0VGEeJpG86MhBgsvrmgbNwySycioOElxe1zToQjqRlVNxkODyGjjutQvpNMAuRYq2OJjZIWAKOAOcdvdfDBqQ5EYDx93R9yRFirY4NLzc3f89dBCSrzIOHKdtxWfR6i/j9yTlFXtxkApoNXB85Icn2HXffk6cPMXIeWvYuX2cTWMjAaNcLG0rPs36utGRxCDm4jAPPGRm88Bd7v7xdiuOja1jcHCguMgyUKuNhg4hU6vJ553XX8md93+Ho0/PsPGCddz0+iv4z3d8k8mpWQDmpmf56H3f4a9v3ZZVuMtaLp/jJ+YSy51+J836u+/Zt6iQDA0NcssNW1t+T88a6f7oQ//n4hZbPjEXh19x9yfN7ELg78zsgLs/3GrFycmZgkNbnVptlImJqeVXLIks8nnLK7ecezw7M8szS3amz5yYK+w7a86nXSt+w5Kd8oaRtR3jS7P+4aNTieWFdZd+TxMzs6lz6gXKJ7vPbSfa4uDuTzZ+HjOzB4CrgJbFQXrPyHlrmJv+yY5vZHhNkDiyul1pmvXVfSQxiLI4mNkI0O/uU43H/wF4f+CwpEA7t4+z697GmMPwGnZePx4kjqxuV5pmfV2fITGIsjgAG4EHzAzqMd7r7n8bNiQp0qaxEe64+aWhwwjSiu+16zOknKIsDu7+z8AVoeOQ8sjrAjG14qWqoiwOImnldYGYWvFSVZqVVXqCLhATyZaOHKRUdIGYSDFUHKRUsjq1dLU0CZ70OhUHiVK7nW9Wp5aulibBk16n4iBRarfzjaX7SGMc0utUHCRK7Xa+sXQftStS6m6SXqHiIFFqt/ONpfuoXZFSd5P0ChUHiVKIi88WWv3HT8yxYWQtO7ZtTj3Goe4m6RUqDhKlEBefNbf6F6TtPoplTERktVQcRBpatfr/4LeuOPe4m+4jTbchvULFoaI0cJrUqtWftvso9uk2tN2lWyoOFZV24LQKO5WFVn7zmEOvdR9pwFy6peJQUWkHTquwU1lo9TfflevOLz7eU91HGjCXbqk4VFTalm9Vdypl7T5qR9dnSLdUHCoqbcu3rN0oq9Vreev6DOlWx+JgZi91938ws99s9bq7fzWfsCRvaVu+sVyZ3M6RH55g132N24qet4ad28fZNDay6jjK2n3Ujq7PkG4td+TwZuAfgJ0tXpsHVBwqYnrmFN9/8kecOHmKH03PMf3jU7l2O6Rtye66bz+TU7MAzE3Psuve/W1vM5qm8BSddyitjpDU1VRtHYuDu9/Y+PnyYsKRWKXZ+WYhbUv2xMlTHZebpSk8afMu6w611RHSnr35dTWV9Xuqkq7GHMzsZcBj7j5tZm8FtgIfcvd/ySswM7sG+FNgAPgrd/+TvD6r12Xxh5hm55uFtAOnI+etYW569tz6I8Nr2r53msKTNu+y9t236m7Ks6uprN9TlXR7m9C/AE6Y2YuAdwH/D/hkXkGZ2QDw34FXApcBbzSzy/L6vF638Id46MgU+w4cY8/eg6nfY+S8xTvbTjvfLOzYtpmtWy7kkk2jbN1yYWLgdGkuO7ePMzY6xNrBfsZGh9h5/Xjb9146qNxpkDlt3r3Ud5/me0qrl76nXtU3Pz+/7Epm9pi7/4KZ/SEw6+5/bmbfdvefzyMoM3sJcLu7b2ssvxvA3f9bq/UnJqaWT6KDK68stsXS39/H2bOrCjmV49OznD5z9tzy4EA/G9YPpXqPM2fP8qPpOebnoa8Pzl+/loH+etuiyHyyyOXs/DwnTp7izNl5Bvr7GBleQ39f37nXm/PplHcrUzNzzJ46c255aM0Ao+vWcvbsPCd+3P4z87aSbbTc97Qa7b6nbhX9N5S31eTz6KOPr/hza7XRthu021NZB83sl4DXATc2nhtYcUTLuwj4t6blw8AvtVt5bGwdg4MrD6e/v7g/0hCfOTDQv2iHOjDQn/rz+/sHeHaHlmNR+WSSC32cv0xBWXjP5fJe6lkjQzwzM8fZM2fpH+jnWevW0tcHUydPndsZnj4D9PVx/kixfex5fE8r1e57ShVfynzOzteL0mo+M08r/Ruq1UYzjqSu2+LwPuAu4Bvu/j0z2wx8P5eIVmBycmZVv79v3z9mFEl3mq/ALcL0yTn27M1v8K/IfPLOBfLJ5/1371s0hnLJplFuffPWTD+jk6L/z+VtJfk0X+0OsHXLhdGMc6xm+6xmu3YqLF0VB3d/EHiwafkg9aOIvDwJPLdp+eLGc7ICZb2at5Wy5qJTRcPTOEc63Z6tdCHwUeB57v4yM/s54Jfd/S9zimsfcKmZPZ96Ufht4PqcPkskd0WfKipJvXa1e9667Vb6BPA/gN9rLB8APg3kUhzc/bSZvQPYS31sY7e7fy+Pz5KVa3XntKq0fNO2+os+VVSSeu1q97x1Wxwucve/NLO3Abj7nJmdXe6XVqMxNYeuwI5YqzunVaXlm8WU52rJFqusXZKhdFscTjcvmNkGIKJxfoHirzqtcss3iynP1ZKVmHVbHL5gZncBo2b2ZurdS7tzi0pWpOirTqvc8k17BXerYqKWrMSs27OVPmxm24ENwG8Cf+bun841Mkmt6JZ8qzunVUXaqa91tpKUzbLFoTGVxa3ufhvwmfxDkpUquiXf6s5pMclz55t26uvQE9u98/orM3lfqY5li4O7nzGzVwK3FRCPrELsfdh53XOhnTy72drl0q5Ah57Y7s77v8NbXrkls/fvlo6OyqvbMYevNOZVugeYXnjS3Vd3abJkKvY+7Nin/U6jXS5pCnSet+xcmuvRp8P8qWr21fLqtjgsHDV8mPpNfvoaP/OcX0lyFKJFF8u031lol0uaAp3nLTuX5r7xgnWpfj8rVT6jrey6HZDudmpvKYkQLbo091zIQp7dbFnkkuctO5fmftPrr2B2ZnaZ38pelc9oK7tujxykx4Ro0e3cPs6uexv99MNrOt5zoZ00Rzx5drNlkUs7WexQl+b+rJG1TAQoDrGPg0l7Kg4V
      "text/plain": [
       "<matplotlib.figure.Figure at 0x7f37806b19e8>"
      ]
     },
     "metadata": {
      "needs_background": "light"
     },
     "output_type": "display_data"
    }
   ],
   "source": [
    "df['pred'] = model.predict(results.params, X)\n",
    "df['resi'] = df.loc[:,'q'] - df.loc[:,'pred']\n",
    "df.plot.scatter(\"pred\", \"resi\")\n",
    "plt.hlines(0, df.pred.min()-5, df.pred.max()+5)\n",
    "plt.show()"
   ]
  },
  {
   "cell_type": "markdown",
   "metadata": {},
   "source": [
    "does not show any serious problem, there might be an outliar at 28"
   ]
  },
  {
   "cell_type": "markdown",
   "metadata": {},
   "source": [
    "#### Example 2\n",
    "quaterly beer production in australia "
   ]
  },
  {
   "cell_type": "code",
   "execution_count": 71,
   "metadata": {},
   "outputs": [
    {
     "data": {
      "text/html": [
       "<div>\n",
       "<style>\n",
       "    .dataframe thead tr:only-child th {\n",
       "        text-align: right;\n",
       "    }\n",
       "\n",
       "    .dataframe thead th {\n",
       "        text-align: left;\n",
       "    }\n",
       "\n",
       "    .dataframe tbody tr th {\n",
       "        vertical-align: top;\n",
       "    }\n",
       "</style>\n",
       "<table border=\"1\" class=\"dataframe\">\n",
       "  <thead>\n",
       "    <tr style=\"text-align: right;\">\n",
       "      <th></th>\n",
       "      <th>Quarter</th>\n",
       "      <th>prod</th>\n",
       "    </tr>\n",
       "  </thead>\n",
       "  <tbody>\n",
       "    <tr>\n",
       "      <th>0</th>\n",
       "      <td>1956Q1</td>\n",
       "      <td>284.4</td>\n",
       "    </tr>\n",
       "    <tr>\n",
       "      <th>1</th>\n",
       "      <td>1956Q2</td>\n",
       "      <td>212.8</td>\n",
       "    </tr>\n",
       "    <tr>\n",
       "      <th>2</th>\n",
       "      <td>1956Q3</td>\n",
       "      <td>226.9</td>\n",
       "    </tr>\n",
       "    <tr>\n",
       "      <th>3</th>\n",
       "      <td>1956Q4</td>\n",
       "      <td>308.4</td>\n",
       "    </tr>\n",
       "    <tr>\n",
       "      <th>4</th>\n",
       "      <td>1957Q1</td>\n",
       "      <td>262.0</td>\n",
       "    </tr>\n",
       "  </tbody>\n",
       "</table>\n",
       "</div>"
      ],
      "text/plain": [
       "  Quarter   prod\n",
       "0  1956Q1  284.4\n",
       "1  1956Q2  212.8\n",
       "2  1956Q3  226.9\n",
       "3  1956Q4  308.4\n",
       "4  1957Q1  262.0"
      ]
     },
     "execution_count": 71,
     "metadata": {},
     "output_type": "execute_result"
    }
   ],
   "source": [
    "df2 = pd.read_csv(\"./data/quarterly-beer-production-in-aus.csv\").iloc[:72,:]\n",
    "df2.columns = [\"Quarter\",\"prod\"]\n",
    "df2.head()"
   ]
  },
  {
   "cell_type": "code",
   "execution_count": 72,
   "metadata": {},
   "outputs": [
    {
     "data": {
      "image/png": "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
      "text/plain": [
       "<matplotlib.figure.Figure at 0x7f377ebbda90>"
      ]
     },
     "metadata": {
      "needs_background": "light"
     },
     "output_type": "display_data"
    }
   ],
   "source": [
    "df2.plot(marker='.',markeredgecolor='r',markerfacecolor='r')\n",
    "plt.show()"
   ]
  },
  {
   "cell_type": "markdown",
   "metadata": {},
   "source": [
    "1. There is an upward trend\n",
    "2. sesonality\n",
    "3. no apperent outliar\n",
    "4. variance increasing with time"
   ]
  },
  {
   "cell_type": "markdown",
   "metadata": {},
   "source": [
    "#### Classical regression methods for trend and seasonal effects\n",
    "1. use time index as predictor variable\n",
    "2. quadratic trend so we can use t and t^2\n",
    "3. there is a seasonal effect so we might use flags for quarters\n",
    "\n",
    "For liner trend:\n",
    "\n",
    "$x_{t} = \\beta_{1}t + \\alpha_{1}S_{1}+\\alpha_{2}S_{2}+\\alpha_{3}S_{3}+\\alpha_{4}S_{4}+\\epsilon_{t}$\n",
    "\n",
    "For quadratic trend\n",
    "\n",
    "$x_{t} = \\beta_{1}t + \\beta_{2}t^2+\\alpha_{1}S_{1}+\\alpha_{2}S_{2}+\\alpha_{3}S_{3}+\\alpha_{4}S_{4}+\\epsilon_{t}$\n",
    "\n",
    "We have deleted the intercept because we have taken all the 4 quarters"
   ]
  },
  {
   "cell_type": "code",
   "execution_count": 73,
   "metadata": {},
   "outputs": [],
   "source": [
    "df2['qtr'] = df2['Quarter'].apply(lambda x: x[-2:])\n",
    "df2['time'] = df2.index+1\n",
    "df2['time_sq'] = df2.time ** 2\n",
    "df2 = pd.get_dummies(df2, columns=[\"qtr\"])"
   ]
  },
  {
   "cell_type": "code",
   "execution_count": 74,
   "metadata": {},
   "outputs": [
    {
     "data": {
      "text/plain": [
       "(72, 8)"
      ]
     },
     "execution_count": 74,
     "metadata": {},
     "output_type": "execute_result"
    }
   ],
   "source": [
    "df2.shape"
   ]
  },
  {
   "cell_type": "markdown",
   "metadata": {},
   "source": [
    "Fit a lilear refression model"
   ]
  },
  {
   "cell_type": "code",
   "execution_count": 77,
   "metadata": {},
   "outputs": [
    {
     "name": "stdout",
     "output_type": "stream",
     "text": [
      "                            OLS Regression Results                            \n",
      "==============================================================================\n",
      "Dep. Variable:                   prod   R-squared:                       0.980\n",
      "Model:                            OLS   Adj. R-squared:                  0.978\n",
      "Method:                 Least Squares   F-statistic:                     635.2\n",
      "Date:                Fri, 07 Dec 2018   Prob (F-statistic):           2.26e-54\n",
      "Time:                        09:45:17   Log-Likelihood:                -272.42\n",
      "No. Observations:                  72   AIC:                             556.8\n",
      "Df Residuals:                      66   BIC:                             570.5\n",
      "Df Model:                           5                                         \n",
      "Covariance Type:            nonrobust                                         \n",
      "==============================================================================\n",
      "                 coef    std err          t      P>|t|      [0.025      0.975]\n",
      "------------------------------------------------------------------------------\n",
      "time           0.4070      0.255      1.593      0.116      -0.103       0.917\n",
      "time_sq        0.0343      0.003     10.113      0.000       0.028       0.041\n",
      "qtr_Q1       263.1664      4.587     57.369      0.000     254.008     272.325\n",
      "qtr_Q2       213.3633      4.622     46.158      0.000     204.134     222.592\n",
      "qtr_Q3       229.5693      4.654     49.329      0.000     220.278     238.861\n",
      "qtr_Q4       314.2068      4.681     67.118      0.000     304.860     323.554\n",
      "==============================================================================\n",
      "Omnibus:                       18.242   Durbin-Watson:                   1.914\n",
      "Prob(Omnibus):                  0.000   Jarque-Bera (JB):               37.174\n",
      "Skew:                           0.820   Prob(JB):                     8.47e-09\n",
      "Kurtosis:                       6.115   Cond. No.                     1.46e+04\n",
      "==============================================================================\n",
      "\n",
      "Warnings:\n",
      "[1] Standard Errors assume that the covariance matrix of the errors is correctly specified.\n",
      "[2] The condition number is large, 1.46e+04. This might indicate that there are\n",
      "strong multicollinearity or other numerical problems.\n"
     ]
    }
   ],
   "source": [
    "X = df2.iloc[:,2:]\n",
    "y = df2.iloc[:,1]\n",
    "model = sm.OLS(y,X)\n",
    "results = model.fit()\n",
    "print(results.summary())"
   ]
  },
  {
   "cell_type": "code",
   "execution_count": 78,
   "metadata": {},
   "outputs": [],
   "source": [
    "df2[\"pred\"] = model.predict(results.params, X)\n",
    "df2[\"resi\"] = df2[\"prod\"] - df2[\"pred\"] "
   ]
  },
  {
   "cell_type": "code",
   "execution_count": 82,
   "metadata": {},
   "outputs": [
    {
     "data": {
      "image/png": "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
      "text/plain": [
       "<matplotlib.figure.Figure at 0x7f377f311780>"
      ]
     },
     "metadata": {
      "needs_background": "light"
     },
     "output_type": "display_data"
    }
   ],
   "source": [
    "df2.plot.scatter(\"pred\", \"resi\")\n",
    "plt.hlines(0, 200, 600)\n",
    "plt.show()"
   ]
  },
  {
   "cell_type": "markdown",
   "metadata": {},
   "source": [
    "There is normally everything looks ok , just the at the end there are some string of positive errors and there is a outliar in the end\n",
    "\n",
    "For residual the notmal result is that they should be unrelated to each other. That mean they cant be predicted by previous values."
   ]
  },
  {
   "cell_type": "markdown",
   "metadata": {},
   "source": [
    "#### Sample Autocorrelation Function (ACF)\n",
    "ACF gives correlation between $x_{t}$ and series of lags $1, 2, 3$ and so on \n",
    "\n",
    "it can be use to find the ACF of the residulas as well. \n",
    "Lets see the acf grapf of the residuals of the example 1 and 2"
   ]
  },
  {
   "cell_type": "code",
   "execution_count": 89,
   "metadata": {},
   "outputs": [
    {
     "data": {
      "image/png": "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
      "text/plain": [
       "<matplotlib.figure.Figure at 0x7f377d8b8860>"
      ]
     },
     "metadata": {
      "needs_background": "light"
     },
     "output_type": "display_data"
    }
   ],
   "source": [
    "from statsmodels.graphics.tsaplots import plot_acf\n",
    "plot_acf(df.resi)\n",
    "plt.title(\"example 1, ACF of residuals\")\n",
    "plt.xlabel(\"Lag\")\n",
    "plt.ylabel(\"Autocorrelation\")\n",
    "plt.show()"
   ]
  },
  {
   "cell_type": "code",
   "execution_count": 88,
   "metadata": {},
   "outputs": [
    {
     "data": {
      "image/png": "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
      "text/plain": [
       "<matplotlib.figure.Figure at 0x7f377d633f98>"
      ]
     },
     "metadata": {
      "needs_background": "light"
     },
     "output_type": "display_data"
    }
   ],
   "source": [
    "plot_acf(df2.resi)\n",
    "plt.title(\"example 2, ACF of residuals\")\n",
    "plt.xlabel(\"Lag\")\n",
    "plt.ylabel(\"Autocorrelation\")\n",
    "plt.show()"
   ]
  },
  {
   "cell_type": "markdown",
   "metadata": {},
   "source": [
    "there is no significant aotocorrelation present in the residuals of the both datasets"
   ]
  },
  {
   "cell_type": "code",
   "execution_count": null,
   "metadata": {},
   "outputs": [],
   "source": []
  }
 ],
 "metadata": {
  "kernelspec": {
   "display_name": "Python 3",
   "language": "python",
   "name": "python3"
  },
  "language_info": {
   "codemirror_mode": {
    "name": "ipython",
    "version": 3
   },
   "file_extension": ".py",
   "mimetype": "text/x-python",
   "name": "python",
   "nbconvert_exporter": "python",
   "pygments_lexer": "ipython3",
   "version": "3.6.1"
  }
 },
 "nbformat": 4,
 "nbformat_minor": 2
}
