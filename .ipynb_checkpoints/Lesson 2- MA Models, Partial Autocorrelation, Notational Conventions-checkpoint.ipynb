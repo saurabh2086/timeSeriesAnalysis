{
 "cells": [
  {
   "cell_type": "markdown",
   "metadata": {},
   "source": [
    "# 2.1 Moving Average Models (MA models)"
   ]
  },
  {
   "cell_type": "markdown",
   "metadata": {},
   "source": [
    "Time series models known as **ARIMA** models may include *autoregressive terms* and *moving average terms*.\n",
    "\n",
    "A **moving average** term in a time series model is a past error(mutiplied by a coefficient)\n",
    "\n",
    "Let $w_{t} \\stackrel{iid}{\\sim} N(0, \\sigma_{w}^2)$\n",
    "\n",
    "The **1st order moving average model**, denoted by **MA(1)** is\n",
    "\n",
    "$x_{t} = \\mu + w_{t} + \\theta_{1}w_{t-1}$"
   ]
  }
 ],
 "metadata": {
  "kernelspec": {
   "display_name": "Python 3",
   "language": "python",
   "name": "python3"
  },
  "language_info": {
   "codemirror_mode": {
    "name": "ipython",
    "version": 3
   },
   "file_extension": ".py",
   "mimetype": "text/x-python",
   "name": "python",
   "nbconvert_exporter": "python",
   "pygments_lexer": "ipython3",
   "version": "3.6.6"
  }
 },
 "nbformat": 4,
 "nbformat_minor": 2
}
