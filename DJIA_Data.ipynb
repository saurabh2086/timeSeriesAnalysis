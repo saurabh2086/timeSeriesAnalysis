{
  "nbformat": 4,
  "nbformat_minor": 0,
  "metadata": {
    "colab": {
      "name": "DJIA Data.ipynb",
      "version": "0.3.2",
      "provenance": [],
      "collapsed_sections": [],
      "include_colab_link": true
    },
    "kernelspec": {
      "name": "python3",
      "display_name": "Python 3"
    }
  },
  "cells": [
    {
      "cell_type": "markdown",
      "metadata": {
        "id": "view-in-github",
        "colab_type": "text"
      },
      "source": [
        "<a href=\"https://colab.research.google.com/github/saurabh2086/timeSeriesAnalysis/blob/prophet/DJIA_Data.ipynb\" target=\"_parent\"><img src=\"https://colab.research.google.com/assets/colab-badge.svg\" alt=\"Open In Colab\"/></a>"
      ]
    },
    {
      "metadata": {
        "id": "gWzC-63DYTai",
        "colab_type": "code",
        "outputId": "03646905-73a4-4ba7-c4a4-7f96882fd0cc",
        "colab": {
          "resources": {
            "http://localhost:8080/nbextensions/google.colab/files.js": {
              "data": "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",
              "ok": true,
              "headers": [
                [
                  "content-type",
                  "application/javascript"
                ]
              ],
              "status": 200,
              "status_text": ""
            }
          },
          "base_uri": "https://localhost:8080/",
          "height": 89
        }
      },
      "cell_type": "code",
      "source": [
        "# Run this cell and select the kaggle.json file downloaded\n",
        "# from the Kaggle account settings page.\n",
        "from google.colab import files\n",
        "files.upload()"
      ],
      "execution_count": 0,
      "outputs": [
        {
          "output_type": "display_data",
          "data": {
            "text/html": [
              "\n",
              "     <input type=\"file\" id=\"files-809fea58-ee43-49b2-9fdf-a1ad646ce986\" name=\"files[]\" multiple disabled />\n",
              "     <output id=\"result-809fea58-ee43-49b2-9fdf-a1ad646ce986\">\n",
              "      Upload widget is only available when the cell has been executed in the\n",
              "      current browser session. Please rerun this cell to enable.\n",
              "      </output>\n",
              "      <script src=\"/nbextensions/google.colab/files.js\"></script> "
            ],
            "text/plain": [
              "<IPython.core.display.HTML object>"
            ]
          },
          "metadata": {
            "tags": []
          }
        },
        {
          "output_type": "stream",
          "text": [
            "Saving kaggle.json to kaggle.json\n"
          ],
          "name": "stdout"
        },
        {
          "output_type": "execute_result",
          "data": {
            "text/plain": [
              "{'kaggle.json': b'{\"username\":\"saurabh2086\",\"key\":\"85d2b855f9e1bf4569df242b660a3cce\"}'}"
            ]
          },
          "metadata": {
            "tags": []
          },
          "execution_count": 6
        }
      ]
    },
    {
      "metadata": {
        "id": "gHWM5clEYlMZ",
        "colab_type": "code",
        "outputId": "12d48eab-a4d2-4810-bfcb-2c46e8bd359d",
        "colab": {
          "base_uri": "https://localhost:8080/",
          "height": 34
        }
      },
      "cell_type": "code",
      "source": [
        "# TO check whether the file has been uploaded correctly\n",
        "!ls -lha kaggle.json"
      ],
      "execution_count": 0,
      "outputs": [
        {
          "output_type": "stream",
          "text": [
            "-rw-r--r-- 1 root root 67 Dec 21 06:08 kaggle.json\n"
          ],
          "name": "stdout"
        }
      ]
    },
    {
      "metadata": {
        "id": "FbQKI9zbYrrL",
        "colab_type": "code",
        "colab": {}
      },
      "cell_type": "code",
      "source": [
        "#install the kaggle api client\n",
        "!pip install -q kaggle"
      ],
      "execution_count": 0,
      "outputs": []
    },
    {
      "metadata": {
        "id": "vijwbpwhY0TR",
        "colab_type": "code",
        "colab": {}
      },
      "cell_type": "code",
      "source": [
        "# The Kaggle API client expects this file to be in ~/.kaggle,\n",
        "# so move it there.\n",
        "!mkdir -p ~/.kaggle\n",
        "!cp kaggle.json ~/.kaggle/\n",
        "\n",
        "# This permissions change avoids a warning on Kaggle tool startup.\n",
        "!chmod 600 ~/.kaggle/kaggle.json"
      ],
      "execution_count": 0,
      "outputs": []
    },
    {
      "metadata": {
        "id": "B54qGdJAXtRY",
        "colab_type": "code",
        "outputId": "ab66a040-0408-4cca-8598-6e28d06cad5e",
        "colab": {
          "base_uri": "https://localhost:8080/",
          "height": 68
        }
      },
      "cell_type": "code",
      "source": [
        "# Copy the stackoverflow data set locally.\n",
        "!kaggle datasets download -d szrlee/stock-time-series-20050101-to-20171231"
      ],
      "execution_count": 0,
      "outputs": [
        {
          "output_type": "stream",
          "text": [
            "Downloading stock-time-series-20050101-to-20171231.zip to /content\n",
            "\r  0% 0.00/3.03M [00:00<?, ?B/s]\n",
            "\r100% 3.03M/3.03M [00:00<00:00, 98.8MB/s]\n"
          ],
          "name": "stdout"
        }
      ]
    },
    {
      "metadata": {
        "id": "nTjeH1OsXwtc",
        "colab_type": "code",
        "outputId": "3ea0b539-fb92-49d1-a5f8-0661eefe41ad",
        "colab": {
          "base_uri": "https://localhost:8080/",
          "height": 85
        }
      },
      "cell_type": "code",
      "source": [
        "!ls -l"
      ],
      "execution_count": 0,
      "outputs": [
        {
          "output_type": "stream",
          "text": [
            "total 3108\n",
            "-rw-r--r-- 1 root root      67 Dec 21 06:08 kaggle.json\n",
            "drwxr-xr-x 1 root root    4096 Dec 18 20:29 sample_data\n",
            "-rw-r--r-- 1 root root 3172789 Dec 21 06:08 stock-time-series-20050101-to-20171231.zip\n"
          ],
          "name": "stdout"
        }
      ]
    },
    {
      "metadata": {
        "id": "fkroxi8KZ6zD",
        "colab_type": "code",
        "outputId": "71411605-a15a-438d-cbf9-c248c2730185",
        "colab": {
          "base_uri": "https://localhost:8080/",
          "height": 595
        }
      },
      "cell_type": "code",
      "source": [
        "#unzip the timeseries data\n",
        "!unzip stock-time-series-20050101-to-20171231.zip"
      ],
      "execution_count": 0,
      "outputs": [
        {
          "output_type": "stream",
          "text": [
            "Archive:  stock-time-series-20050101-to-20171231.zip\n",
            "  inflating: AMZN_2006-01-01_to_2018-01-01.csv  \n",
            "  inflating: MSFT_2006-01-01_to_2018-01-01.csv  \n",
            "  inflating: AXP_2006-01-01_to_2018-01-01.csv  \n",
            "  inflating: GOOGL_2006-01-01_to_2018-01-01.csv  \n",
            "  inflating: INTC_2006-01-01_to_2018-01-01.csv  \n",
            "  inflating: PG_2006-01-01_to_2018-01-01.csv  \n",
            "  inflating: GE_2006-01-01_to_2018-01-01.csv  \n",
            "  inflating: MMM_2006-01-01_to_2018-01-01.csv  \n",
            "  inflating: HD_2006-01-01_to_2018-01-01.csv  \n",
            "  inflating: DIS_2006-01-01_to_2018-01-01.csv  \n",
            "  inflating: CAT_2006-01-01_to_2018-01-01.csv  \n",
            "  inflating: JPM_2006-01-01_to_2018-01-01.csv  \n",
            "  inflating: NKE_2006-01-01_to_2018-01-01.csv  \n",
            "  inflating: UTX_2006-01-01_to_2018-01-01.csv  \n",
            "  inflating: GS_2006-01-01_to_2018-01-01.csv  \n",
            "  inflating: CSCO_2006-01-01_to_2018-01-01.csv  \n",
            "  inflating: UNH_2006-01-01_to_2018-01-01.csv  \n",
            "  inflating: BA_2006-01-01_to_2018-01-01.csv  \n",
            "  inflating: JNJ_2006-01-01_to_2018-01-01.csv  \n",
            "  inflating: XOM_2006-01-01_to_2018-01-01.csv  \n",
            "  inflating: AAPL_2006-01-01_to_2018-01-01.csv  \n",
            "  inflating: KO_2006-01-01_to_2018-01-01.csv  \n",
            "  inflating: IBM_2006-01-01_to_2018-01-01.csv  \n",
            "  inflating: all_stocks_2017-01-01_to_2018-01-01.csv  \n",
            "  inflating: VZ_2006-01-01_to_2018-01-01.csv  \n",
            "  inflating: PFE_2006-01-01_to_2018-01-01.csv  \n",
            "  inflating: AABA_2006-01-01_to_2018-01-01.csv  \n",
            "  inflating: TRV_2006-01-01_to_2018-01-01.csv  \n",
            "  inflating: WMT_2006-01-01_to_2018-01-01.csv  \n",
            "  inflating: CVX_2006-01-01_to_2018-01-01.csv  \n",
            "  inflating: MRK_2006-01-01_to_2018-01-01.csv  \n",
            "  inflating: all_stocks_2006-01-01_to_2018-01-01.csv  \n",
            "  inflating: MCD_2006-01-01_to_2018-01-01.csv  \n"
          ],
          "name": "stdout"
        }
      ]
    },
    {
      "metadata": {
        "id": "8uS6niuoZH5F",
        "colab_type": "code",
        "outputId": "7b0feaff-8a40-45ec-8bd7-66b5b142ff9d",
        "colab": {
          "base_uri": "https://localhost:8080/",
          "height": 578
        }
      },
      "cell_type": "code",
      "source": [
        "#list the files\n",
        "!ls -l *.csv"
      ],
      "execution_count": 0,
      "outputs": [
        {
          "output_type": "stream",
          "text": [
            "-rw-r--r-- 1 root root  148812 Jan  3  2018 AABA_2006-01-01_to_2018-01-01.csv\n",
            "-rw-r--r-- 1 root root  153621 Jan  3  2018 AAPL_2006-01-01_to_2018-01-01.csv\n",
            "-rw-r--r-- 1 root root 4572477 Jan  3  2018 all_stocks_2006-01-01_to_2018-01-01.csv\n",
            "-rw-r--r-- 1 root root  387663 Jan  3  2018 all_stocks_2017-01-01_to_2018-01-01.csv\n",
            "-rw-r--r-- 1 root root  154394 Jan  3  2018 AMZN_2006-01-01_to_2018-01-01.csv\n",
            "-rw-r--r-- 1 root root  143894 Jan  3  2018 AXP_2006-01-01_to_2018-01-01.csv\n",
            "-rw-r--r-- 1 root root  144922 Jan  3  2018 BA_2006-01-01_to_2018-01-01.csv\n",
            "-rw-r--r-- 1 root root  145433 Jan  3  2018 CAT_2006-01-01_to_2018-01-01.csv\n",
            "-rw-r--r-- 1 root root  149454 Jan  3  2018 CSCO_2006-01-01_to_2018-01-01.csv\n",
            "-rw-r--r-- 1 root root  149913 Jan  3  2018 CVX_2006-01-01_to_2018-01-01.csv\n",
            "-rw-r--r-- 1 root root  146325 Jan  3  2018 DIS_2006-01-01_to_2018-01-01.csv\n",
            "-rw-r--r-- 1 root root  143510 Jan  3  2018 GE_2006-01-01_to_2018-01-01.csv\n",
            "-rw-r--r-- 1 root root  161692 Jan  3  2018 GOOGL_2006-01-01_to_2018-01-01.csv\n",
            "-rw-r--r-- 1 root root  151523 Jan  3  2018 GS_2006-01-01_to_2018-01-01.csv\n",
            "-rw-r--r-- 1 root root  144746 Jan  3  2018 HD_2006-01-01_to_2018-01-01.csv\n",
            "-rw-r--r-- 1 root root  153466 Jan  3  2018 IBM_2006-01-01_to_2018-01-01.csv\n",
            "-rw-r--r-- 1 root root  149467 Jan  3  2018 INTC_2006-01-01_to_2018-01-01.csv\n",
            "-rw-r--r-- 1 root root  147647 Jan  3  2018 JNJ_2006-01-01_to_2018-01-01.csv\n",
            "-rw-r--r-- 1 root root  146252 Jan  3  2018 JPM_2006-01-01_to_2018-01-01.csv\n",
            "-rw-r--r-- 1 root root  142787 Jan  3  2018 KO_2006-01-01_to_2018-01-01.csv\n",
            "-rw-r--r-- 1 root root  146363 Jan  3  2018 MCD_2006-01-01_to_2018-01-01.csv\n",
            "-rw-r--r-- 1 root root  148190 Jan  3  2018 MMM_2006-01-01_to_2018-01-01.csv\n",
            "-rw-r--r-- 1 root root  145168 Jan  3  2018 MRK_2006-01-01_to_2018-01-01.csv\n",
            "-rw-r--r-- 1 root root  149472 Jan  3  2018 MSFT_2006-01-01_to_2018-01-01.csv\n",
            "-rw-r--r-- 1 root root  144451 Jan  3  2018 NKE_2006-01-01_to_2018-01-01.csv\n",
            "-rw-r--r-- 1 root root  146513 Jan  3  2018 PFE_2006-01-01_to_2018-01-01.csv\n",
            "-rw-r--r-- 1 root root  141439 Jan  3  2018 PG_2006-01-01_to_2018-01-01.csv\n",
            "-rw-r--r-- 1 root root  146437 Jan  3  2018 TRV_2006-01-01_to_2018-01-01.csv\n",
            "-rw-r--r-- 1 root root  146851 Jan  3  2018 UNH_2006-01-01_to_2018-01-01.csv\n",
            "-rw-r--r-- 1 root root  147086 Jan  3  2018 UTX_2006-01-01_to_2018-01-01.csv\n",
            "-rw-r--r-- 1 root root  142820 Jan  3  2018 VZ_2006-01-01_to_2018-01-01.csv\n",
            "-rw-r--r-- 1 root root  144844 Jan  3  2018 WMT_2006-01-01_to_2018-01-01.csv\n",
            "-rw-r--r-- 1 root root  146125 Jan  3  2018 XOM_2006-01-01_to_2018-01-01.csv\n"
          ],
          "name": "stdout"
        }
      ]
    },
    {
      "metadata": {
        "id": "Y4eppbvxaVec",
        "colab_type": "code",
        "outputId": "fa8c43b5-234c-406f-8b18-14d5d0170def",
        "colab": {
          "base_uri": "https://localhost:8080/",
          "height": 85
        }
      },
      "cell_type": "code",
      "source": [
        "## lets check one of the files\n",
        "!head -n 4 AABA_2006-01-01_to_2018-01-01.csv"
      ],
      "execution_count": 0,
      "outputs": [
        {
          "output_type": "stream",
          "text": [
            "Date,Open,High,Low,Close,Volume,Name\r\n",
            "2006-01-03,39.69,41.22,38.79,40.91,24232729,AABA\r\n",
            "2006-01-04,41.22,41.9,40.77,40.97,20553479,AABA\r\n",
            "2006-01-05,40.93,41.73,40.85,41.53,12829610,AABA\r\n"
          ],
          "name": "stdout"
        }
      ]
    },
    {
      "metadata": {
        "id": "j50NJz-LcB9o",
        "colab_type": "code",
        "outputId": "35b4f3ec-ea7b-49ba-81af-8fdac8d198b7",
        "colab": {
          "base_uri": "https://localhost:8080/",
          "height": 85
        }
      },
      "cell_type": "code",
      "source": [
        "# lets check the all stocks file \n",
        "!head -n 4 all_stocks_2017-01-01_to_2018-01-01.csv"
      ],
      "execution_count": 0,
      "outputs": [
        {
          "output_type": "stream",
          "text": [
            "Date,Open,High,Low,Close,Volume,Name\r\n",
            "2017-01-03,178.83,180.0,177.22,178.05,2510055,MMM\r\n",
            "2017-01-04,178.03,178.9,177.61,178.32,1541985,MMM\r\n",
            "2017-01-05,178.26,179.14,176.89,177.71,1447848,MMM\r\n"
          ],
          "name": "stdout"
        }
      ]
    },
    {
      "metadata": {
        "id": "3QV9aQk8d4wb",
        "colab_type": "code",
        "outputId": "1ad8e994-dbb8-45d8-f952-de7cccd22e7b",
        "colab": {
          "base_uri": "https://localhost:8080/",
          "height": 204
        }
      },
      "cell_type": "code",
      "source": [
        "# installing prophet library from facebook for the time series analysis \n",
        "!pip install fbprophet"
      ],
      "execution_count": 0,
      "outputs": [
        {
          "output_type": "stream",
          "text": [
            "Requirement already satisfied: fbprophet in /usr/local/lib/python3.6/dist-packages (0.3.post2)\n",
            "Requirement already satisfied: Cython>=0.22 in /usr/local/lib/python3.6/dist-packages (from fbprophet) (0.29.2)\n",
            "Requirement already satisfied: pystan>=2.14 in /usr/local/lib/python3.6/dist-packages (from fbprophet) (2.18.0.0)\n",
            "Requirement already satisfied: numpy>=1.10.0 in /usr/local/lib/python3.6/dist-packages (from fbprophet) (1.14.6)\n",
            "Requirement already satisfied: pandas>=0.20.1 in /usr/local/lib/python3.6/dist-packages (from fbprophet) (0.22.0)\n",
            "Requirement already satisfied: matplotlib>=2.0.0 in /usr/local/lib/python3.6/dist-packages (from fbprophet) (2.1.2)\n",
            "Requirement already satisfied: pytz>=2011k in /usr/local/lib/python3.6/dist-packages (from pandas>=0.20.1->fbprophet) (2018.7)\n",
            "Requirement already satisfied: python-dateutil>=2 in /usr/local/lib/python3.6/dist-packages (from pandas>=0.20.1->fbprophet) (2.5.3)\n",
            "Requirement already satisfied: pyparsing!=2.0.4,!=2.1.2,!=2.1.6,>=2.0.1 in /usr/local/lib/python3.6/dist-packages (from matplotlib>=2.0.0->fbprophet) (2.3.0)\n",
            "Requirement already satisfied: cycler>=0.10 in /usr/local/lib/python3.6/dist-packages (from matplotlib>=2.0.0->fbprophet) (0.10.0)\n",
            "Requirement already satisfied: six>=1.10 in /usr/local/lib/python3.6/dist-packages (from matplotlib>=2.0.0->fbprophet) (1.11.0)\n"
          ],
          "name": "stdout"
        }
      ]
    },
    {
      "metadata": {
        "id": "vvft-k6-cSX9",
        "colab_type": "code",
        "colab": {}
      },
      "cell_type": "code",
      "source": [
        "# it seems like the all dataset has all the stocks lets import it using the pandas library\n",
        "import numpy as np\n",
        "import pandas as pd \n",
        "import matplotlib\n",
        "import matplotlib.pyplot as plt \n",
        "from fbprophet import Prophet\n",
        "import seaborn as sns\n",
        "import warnings\n",
        "warnings.filterwarnings('ignore')\n",
        "matplotlib.style.use('seaborn')\n",
        "%matplotlib inline"
      ],
      "execution_count": 0,
      "outputs": []
    },
    {
      "metadata": {
        "id": "sB9S6gcgccqT",
        "colab_type": "code",
        "colab": {}
      },
      "cell_type": "code",
      "source": [
        "df = pd.read_csv(\"all_stocks_2006-01-01_to_2018-01-01.csv\", parse_dates=[\"Date\"], index_col=\"Date\")"
      ],
      "execution_count": 0,
      "outputs": []
    },
    {
      "metadata": {
        "id": "RFNg3BA6dEsT",
        "colab_type": "code",
        "outputId": "5c9d5ed8-4bb5-489d-d19c-b26d16ab94a6",
        "colab": {
          "base_uri": "https://localhost:8080/",
          "height": 204
        }
      },
      "cell_type": "code",
      "source": [
        "#lets inspect the data \n",
        "df.info()"
      ],
      "execution_count": 0,
      "outputs": [
        {
          "output_type": "stream",
          "text": [
            "<class 'pandas.core.frame.DataFrame'>\n",
            "DatetimeIndex: 93612 entries, 2006-01-03 to 2017-12-29\n",
            "Data columns (total 6 columns):\n",
            "Open      93587 non-null float64\n",
            "High      93602 non-null float64\n",
            "Low       93592 non-null float64\n",
            "Close     93612 non-null float64\n",
            "Volume    93612 non-null int64\n",
            "Name      93612 non-null object\n",
            "dtypes: float64(4), int64(1), object(1)\n",
            "memory usage: 5.0+ MB\n"
          ],
          "name": "stdout"
        }
      ]
    },
    {
      "metadata": {
        "id": "gfQxil-fem7c",
        "colab_type": "text"
      },
      "cell_type": "markdown",
      "source": [
        "Most of the data is not null, there are few columns such as Open, High, and Low has missing values \n",
        "But close volume and Name is fully populated. Usually for stock analysis we focus on close prices"
      ]
    },
    {
      "metadata": {
        "id": "fFqD0gaPY2Id",
        "colab_type": "text"
      },
      "cell_type": "markdown",
      "source": [
        "lets check how many stocks are presebt in the data"
      ]
    },
    {
      "metadata": {
        "id": "X4v6IMVefDqc",
        "colab_type": "code",
        "outputId": "19de247a-057a-4a5c-8240-d48060bcb61d",
        "colab": {
          "base_uri": "https://localhost:8080/",
          "height": 34
        }
      },
      "cell_type": "code",
      "source": [
        "df.Name.nunique()"
      ],
      "execution_count": 0,
      "outputs": [
        {
          "output_type": "execute_result",
          "data": {
            "text/plain": [
              "31"
            ]
          },
          "metadata": {
            "tags": []
          },
          "execution_count": 19
        }
      ]
    },
    {
      "metadata": {
        "id": "JpfIlGNpZAs4",
        "colab_type": "text"
      },
      "cell_type": "markdown",
      "source": [
        "Lets see the name of the datasets"
      ]
    },
    {
      "metadata": {
        "id": "X9_41yEkY_Gs",
        "colab_type": "code",
        "outputId": "da9d0859-24e8-47eb-83b1-9b7d2aba52d7",
        "colab": {
          "base_uri": "https://localhost:8080/",
          "height": 85
        }
      },
      "cell_type": "code",
      "source": [
        "df.Name.unique()"
      ],
      "execution_count": 0,
      "outputs": [
        {
          "output_type": "execute_result",
          "data": {
            "text/plain": [
              "array(['MMM', 'AXP', 'AAPL', 'BA', 'CAT', 'CVX', 'CSCO', 'KO', 'DIS',\n",
              "       'XOM', 'GE', 'GS', 'HD', 'IBM', 'INTC', 'JNJ', 'JPM', 'MCD', 'MRK',\n",
              "       'MSFT', 'NKE', 'PFE', 'PG', 'TRV', 'UTX', 'UNH', 'VZ', 'WMT',\n",
              "       'GOOGL', 'AMZN', 'AABA'], dtype=object)"
            ]
          },
          "metadata": {
            "tags": []
          },
          "execution_count": 20
        }
      ]
    },
    {
      "metadata": {
        "id": "9Svbw9M3ZO5u",
        "colab_type": "text"
      },
      "cell_type": "markdown",
      "source": [
        "lets filter few more popular stocks **Apple**, **google**, **microsoft** and **amazon**"
      ]
    },
    {
      "metadata": {
        "id": "CRSLV6kwZMSA",
        "colab_type": "code",
        "colab": {}
      },
      "cell_type": "code",
      "source": [
        "dff = df[df.Name.isin(['AAPL','GOOGL','AMZN','MSFT'])]\n",
        "dff_close = dff.pivot(columns=\"Name\", values=\"Close\")\n",
        "dff_Volume = dff.pivot(columns=\"Name\", values=\"Volume\")"
      ],
      "execution_count": 0,
      "outputs": []
    },
    {
      "metadata": {
        "id": "CSOuqLILZhDN",
        "colab_type": "code",
        "outputId": "d404256b-5a16-4569-d3e4-afe727aab283",
        "colab": {
          "base_uri": "https://localhost:8080/",
          "height": 170
        }
      },
      "cell_type": "code",
      "source": [
        "dff_close.info()"
      ],
      "execution_count": 0,
      "outputs": [
        {
          "output_type": "stream",
          "text": [
            "<class 'pandas.core.frame.DataFrame'>\n",
            "DatetimeIndex: 3019 entries, 2006-01-03 to 2017-12-29\n",
            "Data columns (total 4 columns):\n",
            "AAPL     3019 non-null float64\n",
            "AMZN     3019 non-null float64\n",
            "GOOGL    3019 non-null float64\n",
            "MSFT     3019 non-null float64\n",
            "dtypes: float64(4)\n",
            "memory usage: 117.9 KB\n"
          ],
          "name": "stdout"
        }
      ]
    },
    {
      "metadata": {
        "id": "PWBaRdrlZlVl",
        "colab_type": "code",
        "outputId": "1fd65187-81d3-4547-891d-418bc4e58d54",
        "colab": {
          "base_uri": "https://localhost:8080/",
          "height": 187
        }
      },
      "cell_type": "code",
      "source": [
        "# converting data into daily frequency\n",
        "dff_close.asfreq('D').info()"
      ],
      "execution_count": 0,
      "outputs": [
        {
          "output_type": "stream",
          "text": [
            "<class 'pandas.core.frame.DataFrame'>\n",
            "DatetimeIndex: 4379 entries, 2006-01-03 to 2017-12-29\n",
            "Freq: D\n",
            "Data columns (total 4 columns):\n",
            "AAPL     3019 non-null float64\n",
            "AMZN     3019 non-null float64\n",
            "GOOGL    3019 non-null float64\n",
            "MSFT     3019 non-null float64\n",
            "dtypes: float64(4)\n",
            "memory usage: 171.1 KB\n"
          ],
          "name": "stdout"
        }
      ]
    },
    {
      "metadata": {
        "id": "uK0wAiVMZruM",
        "colab_type": "text"
      },
      "cell_type": "markdown",
      "source": [
        "ok there are a lot of null values, but normaly the exchanges remain close on weekends"
      ]
    },
    {
      "metadata": {
        "id": "cmvUj4RkZuFZ",
        "colab_type": "code",
        "outputId": "ff856694-21fe-4563-ac63-ae81bed6cff9",
        "colab": {
          "base_uri": "https://localhost:8080/",
          "height": 187
        }
      },
      "cell_type": "code",
      "source": [
        "# changing frequency to business days\n",
        "dff_close = dff_close.asfreq('B')\n",
        "dff_close.info()"
      ],
      "execution_count": 0,
      "outputs": [
        {
          "output_type": "stream",
          "text": [
            "<class 'pandas.core.frame.DataFrame'>\n",
            "DatetimeIndex: 3129 entries, 2006-01-03 to 2017-12-29\n",
            "Freq: B\n",
            "Data columns (total 4 columns):\n",
            "AAPL     3019 non-null float64\n",
            "AMZN     3019 non-null float64\n",
            "GOOGL    3019 non-null float64\n",
            "MSFT     3019 non-null float64\n",
            "dtypes: float64(4)\n",
            "memory usage: 122.2 KB\n"
          ],
          "name": "stdout"
        }
      ]
    },
    {
      "metadata": {
        "id": "0dSIIQbpZ1Vx",
        "colab_type": "text"
      },
      "cell_type": "markdown",
      "source": [
        "still there are some entries that are null lets check what those are"
      ]
    },
    {
      "metadata": {
        "id": "gR06W9H8ZzwL",
        "colab_type": "code",
        "outputId": "3c49036c-bc00-44d4-9d17-ffe1d1aa2da5",
        "colab": {
          "base_uri": "https://localhost:8080/",
          "height": 235
        }
      },
      "cell_type": "code",
      "source": [
        "dff_close[dff_close.AAPL.isnull()].tail()"
      ],
      "execution_count": 0,
      "outputs": [
        {
          "output_type": "execute_result",
          "data": {
            "text/html": [
              "<div>\n",
              "<style scoped>\n",
              "    .dataframe tbody tr th:only-of-type {\n",
              "        vertical-align: middle;\n",
              "    }\n",
              "\n",
              "    .dataframe tbody tr th {\n",
              "        vertical-align: top;\n",
              "    }\n",
              "\n",
              "    .dataframe thead th {\n",
              "        text-align: right;\n",
              "    }\n",
              "</style>\n",
              "<table border=\"1\" class=\"dataframe\">\n",
              "  <thead>\n",
              "    <tr style=\"text-align: right;\">\n",
              "      <th>Name</th>\n",
              "      <th>AAPL</th>\n",
              "      <th>AMZN</th>\n",
              "      <th>GOOGL</th>\n",
              "      <th>MSFT</th>\n",
              "    </tr>\n",
              "    <tr>\n",
              "      <th>Date</th>\n",
              "      <th></th>\n",
              "      <th></th>\n",
              "      <th></th>\n",
              "      <th></th>\n",
              "    </tr>\n",
              "  </thead>\n",
              "  <tbody>\n",
              "    <tr>\n",
              "      <th>2017-05-29</th>\n",
              "      <td>NaN</td>\n",
              "      <td>NaN</td>\n",
              "      <td>NaN</td>\n",
              "      <td>NaN</td>\n",
              "    </tr>\n",
              "    <tr>\n",
              "      <th>2017-07-04</th>\n",
              "      <td>NaN</td>\n",
              "      <td>NaN</td>\n",
              "      <td>NaN</td>\n",
              "      <td>NaN</td>\n",
              "    </tr>\n",
              "    <tr>\n",
              "      <th>2017-09-04</th>\n",
              "      <td>NaN</td>\n",
              "      <td>NaN</td>\n",
              "      <td>NaN</td>\n",
              "      <td>NaN</td>\n",
              "    </tr>\n",
              "    <tr>\n",
              "      <th>2017-11-23</th>\n",
              "      <td>NaN</td>\n",
              "      <td>NaN</td>\n",
              "      <td>NaN</td>\n",
              "      <td>NaN</td>\n",
              "    </tr>\n",
              "    <tr>\n",
              "      <th>2017-12-25</th>\n",
              "      <td>NaN</td>\n",
              "      <td>NaN</td>\n",
              "      <td>NaN</td>\n",
              "      <td>NaN</td>\n",
              "    </tr>\n",
              "  </tbody>\n",
              "</table>\n",
              "</div>"
            ],
            "text/plain": [
              "Name        AAPL  AMZN  GOOGL  MSFT\n",
              "Date                               \n",
              "2017-05-29   NaN   NaN    NaN   NaN\n",
              "2017-07-04   NaN   NaN    NaN   NaN\n",
              "2017-09-04   NaN   NaN    NaN   NaN\n",
              "2017-11-23   NaN   NaN    NaN   NaN\n",
              "2017-12-25   NaN   NaN    NaN   NaN"
            ]
          },
          "metadata": {
            "tags": []
          },
          "execution_count": 25
        }
      ]
    },
    {
      "metadata": {
        "id": "R2VqAeuNZ9r8",
        "colab_type": "text"
      },
      "cell_type": "markdown",
      "source": [
        "After checking with calander these date fall on public holidays\n",
        "\n",
        "lets remove all the NaN values for our analysis"
      ]
    },
    {
      "metadata": {
        "id": "2eDtW6ziZ8Gg",
        "colab_type": "code",
        "outputId": "fd0ce61d-2eab-44e6-969a-5c7e3a9a876c",
        "colab": {
          "base_uri": "https://localhost:8080/",
          "height": 170
        }
      },
      "cell_type": "code",
      "source": [
        "dff_close.dropna(inplace=True)\n",
        "dff_close.info()"
      ],
      "execution_count": 0,
      "outputs": [
        {
          "output_type": "stream",
          "text": [
            "<class 'pandas.core.frame.DataFrame'>\n",
            "DatetimeIndex: 3019 entries, 2006-01-03 to 2017-12-29\n",
            "Data columns (total 4 columns):\n",
            "AAPL     3019 non-null float64\n",
            "AMZN     3019 non-null float64\n",
            "GOOGL    3019 non-null float64\n",
            "MSFT     3019 non-null float64\n",
            "dtypes: float64(4)\n",
            "memory usage: 117.9 KB\n"
          ],
          "name": "stdout"
        }
      ]
    },
    {
      "metadata": {
        "id": "j_TXIWXCaMk2",
        "colab_type": "text"
      },
      "cell_type": "markdown",
      "source": [
        "Lets do a line plot to visualize our data"
      ]
    },
    {
      "metadata": {
        "id": "bpcNKtAChcJJ",
        "colab_type": "code",
        "outputId": "6243e528-2872-4844-e1f6-159d0e21869f",
        "colab": {
          "base_uri": "https://localhost:8080/",
          "height": 268
        }
      },
      "cell_type": "code",
      "source": [
        "dff_close.plot()\n",
        "plt.show()"
      ],
      "execution_count": 0,
      "outputs": [
        {
          "output_type": "display_data",
          "data": {
            "image/png": "[encoded data removed]",
            "text/plain": [
              "<matplotlib.figure.Figure at 0x7f649f5b0908>"
            ]
          },
          "metadata": {
            "tags": []
          }
        }
      ]
    },
    {
      "metadata": {
        "id": "RJTVAJZAaftI",
        "colab_type": "text"
      },
      "cell_type": "markdown",
      "source": [
        "By this graph looks like Google and AMZN  have given more return, but it is an illusion since the starting prices for these values were different we can not really compare these stocks. Lets regularize this series and devide it by first observation"
      ]
    },
    {
      "metadata": {
        "id": "uIg9wwVDae6d",
        "colab_type": "code",
        "outputId": "0a8baa97-22e7-496f-db3f-c7bda248f948",
        "colab": {
          "base_uri": "https://localhost:8080/",
          "height": 268
        }
      },
      "cell_type": "code",
      "source": [
        "dff_close_norm = dff_close.divide(dff_close.iloc[0,:])\n",
        "dff_close_norm.plot()\n",
        "plt.show()"
      ],
      "execution_count": 0,
      "outputs": [
        {
          "output_type": "display_data",
          "data": {
            "image/png": "[encoded data removed]",
            "text/plain": [
              "<matplotlib.figure.Figure at 0x7f649b8d9080>"
            ]
          },
          "metadata": {
            "tags": []
          }
        }
      ]
    },
    {
      "metadata": {
        "id": "mej7IGTDa4Jq",
        "colab_type": "text"
      },
      "cell_type": "markdown",
      "source": [
        "Whoa !!, Now this shows the correct story stoks of **Apple** and **Amazon** have increasd much more than the Google."
      ]
    },
    {
      "metadata": {
        "id": "Qegscpq6syIp",
        "colab_type": "text"
      },
      "cell_type": "markdown",
      "source": [
        "We use mostly **statsmodel** and **prophet** library for the time series analysis."
      ]
    },
    {
      "metadata": {
        "id": "BwCYNG50uSu4",
        "colab_type": "code",
        "colab": {}
      },
      "cell_type": "code",
      "source": [
        "df_aapl = dff_close[['AAPL']].reset_index()\n",
        "df_aapl.columns = [\"ds\",\"y\"]\n"
      ],
      "execution_count": 0,
      "outputs": []
    },
    {
      "metadata": {
        "id": "kJaTnyOKzPqa",
        "colab_type": "code",
        "colab": {}
      },
      "cell_type": "code",
      "source": [
        "df_aapl[\"daily_change\"] = df_aapl[[\"y\"]].diff()\n",
        "df_aapl[\"daily_perc_change\"] = df_aapl[[\"y\"]].pct_change()\n",
        "df_aapl = df_aapl.dropna()"
      ],
      "execution_count": 0,
      "outputs": []
    },
    {
      "metadata": {
        "id": "kP_zECvTxJGW",
        "colab_type": "code",
        "outputId": "93d36638-7604-4a3b-e3b5-ca8f210ec399",
        "colab": {
          "base_uri": "https://localhost:8080/",
          "height": 204
        }
      },
      "cell_type": "code",
      "source": [
        "df_aapl.head()"
      ],
      "execution_count": 93,
      "outputs": [
        {
          "output_type": "execute_result",
          "data": {
            "text/html": [
              "<div>\n",
              "<style scoped>\n",
              "    .dataframe tbody tr th:only-of-type {\n",
              "        vertical-align: middle;\n",
              "    }\n",
              "\n",
              "    .dataframe tbody tr th {\n",
              "        vertical-align: top;\n",
              "    }\n",
              "\n",
              "    .dataframe thead th {\n",
              "        text-align: right;\n",
              "    }\n",
              "</style>\n",
              "<table border=\"1\" class=\"dataframe\">\n",
              "  <thead>\n",
              "    <tr style=\"text-align: right;\">\n",
              "      <th></th>\n",
              "      <th>ds</th>\n",
              "      <th>y</th>\n",
              "      <th>daily_change</th>\n",
              "      <th>daily_perc_change</th>\n",
              "    </tr>\n",
              "  </thead>\n",
              "  <tbody>\n",
              "    <tr>\n",
              "      <th>1</th>\n",
              "      <td>2006-01-04</td>\n",
              "      <td>10.71</td>\n",
              "      <td>0.03</td>\n",
              "      <td>0.002809</td>\n",
              "    </tr>\n",
              "    <tr>\n",
              "      <th>2</th>\n",
              "      <td>2006-01-05</td>\n",
              "      <td>10.63</td>\n",
              "      <td>-0.08</td>\n",
              "      <td>-0.007470</td>\n",
              "    </tr>\n",
              "    <tr>\n",
              "      <th>3</th>\n",
              "      <td>2006-01-06</td>\n",
              "      <td>10.90</td>\n",
              "      <td>0.27</td>\n",
              "      <td>0.025400</td>\n",
              "    </tr>\n",
              "    <tr>\n",
              "      <th>4</th>\n",
              "      <td>2006-01-09</td>\n",
              "      <td>10.86</td>\n",
              "      <td>-0.04</td>\n",
              "      <td>-0.003670</td>\n",
              "    </tr>\n",
              "    <tr>\n",
              "      <th>5</th>\n",
              "      <td>2006-01-10</td>\n",
              "      <td>11.55</td>\n",
              "      <td>0.69</td>\n",
              "      <td>0.063536</td>\n",
              "    </tr>\n",
              "  </tbody>\n",
              "</table>\n",
              "</div>"
            ],
            "text/plain": [
              "          ds      y  daily_change  daily_perc_change\n",
              "1 2006-01-04  10.71          0.03           0.002809\n",
              "2 2006-01-05  10.63         -0.08          -0.007470\n",
              "3 2006-01-06  10.90          0.27           0.025400\n",
              "4 2006-01-09  10.86         -0.04          -0.003670\n",
              "5 2006-01-10  11.55          0.69           0.063536"
            ]
          },
          "metadata": {
            "tags": []
          },
          "execution_count": 93
        }
      ]
    },
    {
      "metadata": {
        "id": "7I12-sDf2wtH",
        "colab_type": "text"
      },
      "cell_type": "markdown",
      "source": [
        "Lets plot the percentage change"
      ]
    },
    {
      "metadata": {
        "id": "1kO-8tHz2vVy",
        "colab_type": "code",
        "outputId": "460f389a-d7d6-4928-c723-547db94a4303",
        "colab": {
          "base_uri": "https://localhost:8080/",
          "height": 279
        }
      },
      "cell_type": "code",
      "source": [
        "sns.distplot(df_aapl.daily_perc_change)\n",
        "plt.show()"
      ],
      "execution_count": 94,
      "outputs": [
        {
          "output_type": "display_data",
          "data": {
            "image/png": "[encoded data removed]",
            "text/plain": [
              "<matplotlib.figure.Figure at 0x7f64993b2e80>"
            ]
          },
          "metadata": {
            "tags": []
          }
        }
      ]
    },
    {
      "metadata": {
        "id": "kO6wRXWI3KWf",
        "colab_type": "code",
        "outputId": "b5a27e08-aff2-4b08-d23f-febc471862c8",
        "colab": {
          "base_uri": "https://localhost:8080/",
          "height": 51
        }
      },
      "cell_type": "code",
      "source": [
        "from statsmodels.stats.weightstats import DescrStatsW\n",
        "print(DescrStatsW(df_aapl['daily_perc_change'],ddof=len(df_aapl)-1).ttest_mean(value=0, alternative='two-sided'))\n",
        "print(DescrStatsW(df_aapl['daily_perc_change'],ddof=len(df_aapl)-1).tconfint_mean())\n"
      ],
      "execution_count": 95,
      "outputs": [
        {
          "output_type": "stream",
          "text": [
            "(3.025328898634142, 0.002504578301407265, 3017.0)\n",
            "(0.00039572880691146617, 0.0018534430815421183)\n"
          ],
          "name": "stdout"
        }
      ]
    },
    {
      "metadata": {
        "id": "JrnZVkJ96-yL",
        "colab_type": "text"
      },
      "cell_type": "markdown",
      "source": [
        "From 5%  confidance interval we rejected the hypothesis that the mean return is zero "
      ]
    },
    {
      "metadata": {
        "id": "g6qiGxP38srW",
        "colab_type": "text"
      },
      "cell_type": "markdown",
      "source": [
        "lets find the rough estimate of the cap of the growth based on overall growth rate"
      ]
    },
    {
      "metadata": {
        "id": "XjjceOFp660g",
        "colab_type": "code",
        "outputId": "dff22c0b-0318-4d7b-a3da-1fc1a3ae9f0f",
        "colab": {
          "base_uri": "https://localhost:8080/",
          "height": 34
        }
      },
      "cell_type": "code",
      "source": [
        "np.mean(df_aapl.daily_perc_change) - 2*np.std(df_aapl.daily_perc_change)"
      ],
      "execution_count": 96,
      "outputs": [
        {
          "output_type": "execute_result",
          "data": {
            "text/plain": [
              "-0.0397108979235351"
            ]
          },
          "metadata": {
            "tags": []
          },
          "execution_count": 96
        }
      ]
    },
    {
      "metadata": {
        "id": "A72z_In19H-8",
        "colab_type": "code",
        "outputId": "b8c79169-342f-4350-b1d6-07dbe2c98f3b",
        "colab": {
          "base_uri": "https://localhost:8080/",
          "height": 34
        }
      },
      "cell_type": "code",
      "source": [
        "np.mean(df_aapl.daily_perc_change) + 2*np.std(df_aapl.daily_perc_change)"
      ],
      "execution_count": 97,
      "outputs": [
        {
          "output_type": "execute_result",
          "data": {
            "text/plain": [
              "0.04196006981198868"
            ]
          },
          "metadata": {
            "tags": []
          },
          "execution_count": 97
        }
      ]
    },
    {
      "metadata": {
        "id": "R93PzkrM9QE4",
        "colab_type": "text"
      },
      "cell_type": "markdown",
      "source": [
        "so most of the time the return remains in the boundry of -4% to +4%"
      ]
    },
    {
      "metadata": {
        "id": "eEA1XNXB9lxs",
        "colab_type": "text"
      },
      "cell_type": "markdown",
      "source": [
        "Lets plot the daily change in price and pct change \n"
      ]
    },
    {
      "metadata": {
        "id": "RWzqOopO9kCf",
        "colab_type": "code",
        "colab": {
          "base_uri": "https://localhost:8080/",
          "height": 283
        },
        "outputId": "f7e80a4f-fb64-41d2-97dc-f45bf28dadb0"
      },
      "cell_type": "code",
      "source": [
        "fig, ax = plt.subplots(figsize=(12, 4), nrows=1, ncols=2)\n",
        "df_aapl.set_index(\"ds\")[\"daily_perc_change\"].plot(ax=ax[0])\n",
        "df_aapl.set_index(\"ds\")[\"daily_change\"].plot(ax=ax[1], color='g', alpha=0.7)\n",
        "ax[0].set_title(\"daily perc change\")\n",
        "ax[1].set_title(\"daily price change\")\n",
        "plt.show()\n"
      ],
      "execution_count": 98,
      "outputs": [
        {
          "output_type": "display_data",
          "data": {
            "image/png": "[encoded data removed]",
            "text/plain": [
              "<matplotlib.figure.Figure at 0x7f64993d7390>"
            ]
          },
          "metadata": {
            "tags": []
          }
        }
      ]
    },
    {
      "metadata": {
        "id": "p30SOuTVALCG",
        "colab_type": "text"
      },
      "cell_type": "markdown",
      "source": [
        "By observing these two graphs we can see that both the data does not look stationary(one of the most important concept in time series analysis).\n",
        "The trend has got removed by the first difference but the variance does not look constant across the whole time line.\n",
        "\n",
        "1.   In the first graph the variance is fluctuating and during the **2006** and **2009** period it looks higher than previous periods\n",
        "2.   In the second graph the trend looks reversed initally hte change is not much but later the magnitude of changes increased. \n",
        "\n",
        "The opposite trend might be due to change in base price\n",
        "\n"
      ]
    },
    {
      "metadata": {
        "id": "fXEj7pVPCVAE",
        "colab_type": "text"
      },
      "cell_type": "markdown",
      "source": [
        "We have to work on making the series stationary. There are few things we can do is like taking log /square root of the initial series or the of the first difference values"
      ]
    },
    {
      "metadata": {
        "id": "jpuct7WzCPYw",
        "colab_type": "code",
        "colab": {}
      },
      "cell_type": "code",
      "source": [
        ""
      ],
      "execution_count": 0,
      "outputs": []
    },
    {
      "metadata": {
        "id": "JFn1q7aPayet",
        "colab_type": "code",
        "colab": {}
      },
      "cell_type": "code",
      "source": [
        "Prophet?"
      ],
      "execution_count": 0,
      "outputs": []
    }
  ]
}